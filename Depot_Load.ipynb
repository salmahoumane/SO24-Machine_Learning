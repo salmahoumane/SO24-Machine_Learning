{
 "cells": [
  {
   "cell_type": "code",
   "execution_count": 11,
   "id": "33014290-e1d0-4b1b-8a59-733d1412b4a2",
   "metadata": {},
   "outputs": [],
   "source": [
    "#Import necessary libraries\n",
    "import pandas as pd\n",
    "import pyarrow.parquet as pq\n",
    "import matplotlib.pyplot as plt\n",
    "import seaborn as sns\n",
    "import numpy as np\n",
    "import warnings\n",
    "from sklearn.model_selection import GridSearchCV\n",
    "from sklearn.linear_model import LinearRegression\n",
    "from scipy.stats import pearsonr"
   ]
  },
  {
   "cell_type": "code",
   "execution_count": 12,
   "id": "521fd300-3791-46b1-91a2-2310a8e252a3",
   "metadata": {},
   "outputs": [],
   "source": [
    "warnings.filterwarnings('ignore')"
   ]
  },
  {
   "cell_type": "code",
   "execution_count": 13,
   "id": "aeb6088b-744a-4faa-9600-783e40beb200",
   "metadata": {},
   "outputs": [],
   "source": [
    "#Function to read parquet file\n",
    "def read_parquet_file(file_path):\n",
    "    df = pd.read_parquet(file_path)\n",
    "    return df"
   ]
  },
  {
   "cell_type": "code",
   "execution_count": 14,
   "id": "634a5896-ffd2-4655-a15e-bc2dfa738a04",
   "metadata": {},
   "outputs": [],
   "source": [
    "#Importing document\n",
    "file_path = '/Users/salmahoumane/Downloads/24-07-31_2w_all_events.parquet'\n",
    "df = read_parquet_file(file_path)"
   ]
  },
  {
   "cell_type": "code",
   "execution_count": 15,
   "id": "df1a8a82-3e05-45bb-b0dd-daf4a5d61785",
   "metadata": {},
   "outputs": [
    {
     "name": "stdout",
     "output_type": "stream",
     "text": [
      "Column names:\n",
      "Index(['UNITNO', 'SCAN_DATETIME', 'EVENT_CODE', 'EVENT_REASON', 'WEIGHT',\n",
      "       'VOLUME', 'STACKABLE', 'SMALL', 'HAZARDOUS', 'BELT',\n",
      "       'DESTINATION_ZIPCODE', 'EVENT_TYPE', 'RAW_DESTINATION_DEPOT_ID',\n",
      "       'RAW_SCAN_DEPOT_ID', 'DESTINATION_DEPOT_ID', 'SCAN_DEPOT_ID',\n",
      "       'DESTINATION_SCAN_DATETIME', 'FIRST_SCAN_DATETIME', 'NEXT_DEPOT_ID',\n",
      "       'NEXT_SCAN_DATETIME', 'PREVIOUS_DEPOT_ID', 'PREVIOUS_SCAN_DATETIME'],\n",
      "      dtype='object')\n"
     ]
    }
   ],
   "source": [
    "# Print the column names\n",
    "print(\"Column names:\")\n",
    "print(df.columns)"
   ]
  },
  {
   "cell_type": "code",
   "execution_count": 16,
   "id": "65597c6c-9490-4c8a-aafb-3a965c8c8e38",
   "metadata": {},
   "outputs": [],
   "source": [
    "#Concatenating event code and event reason\n",
    "df['EVENT_CONCAT'] = df['EVENT_CODE'].astype(str) + '-' + df['EVENT_REASON'].astype(str)"
   ]
  },
  {
   "cell_type": "code",
   "execution_count": 17,
   "id": "4e84dd81-0b64-42a9-a827-af26e47d1c45",
   "metadata": {},
   "outputs": [],
   "source": [
    "# Convert datetime columns to datetime type\n",
    "df['DESTINATION_SCAN_DATETIME'] = pd.to_datetime(df['DESTINATION_SCAN_DATETIME'])\n",
    "df['FIRST_SCAN_DATETIME'] = pd.to_datetime(df['FIRST_SCAN_DATETIME'])\n",
    "# Add a new column for the week of the year\n",
    "df['SCAN_WEEK_OF_YEAR'] = df['SCAN_DATETIME'].dt.strftime(\"%V\").astype(str).astype(int)\n",
    "# Add a new column for the day of the week\n",
    "df['SCAN_DAY_OF_WEEK'] = df['SCAN_DATETIME'].dt.dayofweek\n",
    "# Add a new column to indicate if the scan happened on a Friday\n",
    "df['IS_FRIDAY'] = df['SCAN_DATETIME'].dt.dayofweek == 4\n",
    "# Add a new column for the hour of the scan\n",
    "df['SCAN_HOUR'] = df['SCAN_DATETIME'].dt.hour\n",
    "# Add a new column for the minute of the scan\n",
    "df['SCAN_MINUTE'] = df['SCAN_DATETIME'].dt.minute\n",
    "# Add a new column to indicate if the scan happened before 10 AM\n",
    "df['SCAN_BEFORE_10'] = df['SCAN_HOUR'] < 10"
   ]
  },
  {
   "cell_type": "code",
   "execution_count": 18,
   "id": "29746fc4-3d9a-4ff9-9331-e0bec552ec3c",
   "metadata": {},
   "outputs": [],
   "source": [
    "# Define a function to calculate the cutoff time\n",
    "def next_10am_after(scan_time, IS_FRIDAY, scan_hour):\n",
    "    if scan_hour < 10:\n",
    "        # If the scan is before 10 AM, set cutoff to the next day's 10 AM\n",
    "        next_day = scan_time + pd.Timedelta(days=1)\n",
    "        cutoff_time = next_day.replace(hour=10, minute=0, second=0, microsecond=0)\n",
    "    else:\n",
    "        if IS_FRIDAY:\n",
    "            # If the scan is on Friday and after 10 AM, set cutoff to Monday 10 AM\n",
    "            next_monday = scan_time + pd.Timedelta(days=(7 - scan_time.weekday())) # 7 - weekday() gives the days to Monday\n",
    "            cutoff_time = next_monday.replace(hour=10, minute=0, second=0, microsecond=0)\n",
    "        else:\n",
    "            # Otherwise, set cutoff to the next day's 10 AM\n",
    "            next_day = scan_time + pd.Timedelta(days=1)\n",
    "            cutoff_time = next_day.replace(hour=10, minute=0, second=0, microsecond=0)\n",
    "    return cutoff_time"
   ]
  },
  {
   "cell_type": "code",
   "execution_count": 22,
   "id": "cff873e3-32c1-4ece-abc9-b809ed2c4b14",
   "metadata": {},
   "outputs": [],
   "source": [
    "# Drop duplicate rows based on 'UNITNO' and 'EVENT_REASON', keeping only the first occurrence\n",
    "df_unique = df.drop_duplicates(subset=['UNITNO', 'EVENT_REASON'], keep='first')\n",
    "# Apply the function to calculate the cutoff time for each row\n",
    "df_unique['cutoff_time'] = df_unique.apply(\n",
    "    lambda row: next_10am_after(row['FIRST_SCAN_DATETIME'], row['IS_FRIDAY'], row['SCAN_HOUR']),\n",
    "    axis=1\n",
    ")\n",
    "# Create the `on_time` variable based on the new criteria\n",
    "df_unique['ON_TIME'] = df_unique['DESTINATION_SCAN_DATETIME'] <= df_unique['cutoff_time']"
   ]
  },
  {
   "cell_type": "code",
   "execution_count": 23,
   "id": "219df09f-ec9e-4f3e-83a4-01a5dc7a85d8",
   "metadata": {},
   "outputs": [],
   "source": [
    "#Filter data for inbound records\n",
    "inbound_df = df_unique[df_unique['EVENT_CODE'] == 2]"
   ]
  },
  {
   "cell_type": "code",
   "execution_count": 24,
   "id": "0385f770-031d-483f-a426-4d71d889faeb",
   "metadata": {},
   "outputs": [],
   "source": [
    "# Drop duplicate rows based on 'UNITNO' keeping only the first occurrence\n",
    "inbound_df_filtered = inbound_df.drop_duplicates(subset=['UNITNO'], keep='first')"
   ]
  },
  {
   "cell_type": "code",
   "execution_count": 25,
   "id": "ae112bc9-dbe0-4091-9c17-e3d1250623e1",
   "metadata": {},
   "outputs": [
    {
     "name": "stdout",
     "output_type": "stream",
     "text": [
      "Column names:\n",
      "Index(['UNITNO', 'SCAN_DATETIME', 'EVENT_CODE', 'EVENT_REASON', 'WEIGHT',\n",
      "       'VOLUME', 'STACKABLE', 'SMALL', 'HAZARDOUS', 'BELT',\n",
      "       'DESTINATION_ZIPCODE', 'EVENT_TYPE', 'RAW_DESTINATION_DEPOT_ID',\n",
      "       'RAW_SCAN_DEPOT_ID', 'DESTINATION_DEPOT_ID', 'SCAN_DEPOT_ID',\n",
      "       'DESTINATION_SCAN_DATETIME', 'FIRST_SCAN_DATETIME', 'NEXT_DEPOT_ID',\n",
      "       'NEXT_SCAN_DATETIME', 'PREVIOUS_DEPOT_ID', 'PREVIOUS_SCAN_DATETIME',\n",
      "       'EVENT_CONCAT', 'SCAN_WEEK_OF_YEAR', 'SCAN_DAY_OF_WEEK', 'IS_FRIDAY',\n",
      "       'SCAN_HOUR', 'SCAN_MINUTE', 'SCAN_BEFORE_10', 'cutoff_time', 'ON_TIME'],\n",
      "      dtype='object')\n"
     ]
    }
   ],
   "source": [
    "# Print the column names\n",
    "print(\"Column names:\")\n",
    "print(inbound_df_filtered.columns)"
   ]
  },
  {
   "cell_type": "markdown",
   "id": "d2498217-64a8-4191-8d0e-e82e174fa80d",
   "metadata": {},
   "source": [
    "# Calculate the KPI for depot_load"
   ]
  },
  {
   "cell_type": "markdown",
   "id": "63830475-8352-4954-9edc-756d8d4122f1",
   "metadata": {},
   "source": [
    "## Composite Score represents Depot load"
   ]
  },
  {
   "cell_type": "code",
   "execution_count": 16,
   "id": "d990acff-8dcb-4f69-a984-bfebed12637b",
   "metadata": {},
   "outputs": [],
   "source": [
    "# Assuming that depot_metrics is a DataFrame with the required columns\n",
    "depot_metrics = inbound_df_filtered.groupby('DESTINATION_DEPOT_ID').agg({\n",
    "    'UNITNO': 'count',  # Total number of inbounds\n",
    "    'WEIGHT': ['sum', 'mean'],  # Total and average weight\n",
    "    'VOLUME': ['sum', 'mean']  # Total and average volume\n",
    "}).reset_index()"
   ]
  },
  {
   "cell_type": "code",
   "execution_count": 17,
   "id": "daadf446-0ad0-4371-a21c-83cbaf0c38fd",
   "metadata": {},
   "outputs": [],
   "source": [
    "# Renaming columns for clarity\n",
    "depot_metrics.columns = [\n",
    "    'DESTINATION_DEPOT_ID', 'total_inbounds', 'total_weight', 'average_weight', 'total_volume', 'average_volume'\n",
    "]"
   ]
  },
  {
   "cell_type": "code",
   "execution_count": 19,
   "id": "65bf507b-3997-4e12-ad13-2f9abb571b14",
   "metadata": {},
   "outputs": [],
   "source": [
    "from sklearn.preprocessing import MinMaxScaler\n",
    "\n",
    "# Create a MinMaxScaler instance\n",
    "scaler = MinMaxScaler()"
   ]
  },
  {
   "cell_type": "code",
   "execution_count": 21,
   "id": "caf19437-1a93-4df2-a3e2-9a622387023e",
   "metadata": {},
   "outputs": [],
   "source": [
    "# Normalize the KPIs\n",
    "normalized_kpis = scaler.fit_transform(depot_metrics[['total_inbounds', 'total_weight', 'total_volume', 'average_weight', 'average_volume']])\n",
    "normalized_df = pd.DataFrame(normalized_kpis, columns=['total_inbounds', 'total_weight', 'total_volume', 'average_weight', 'average_volume'])"
   ]
  },
  {
   "cell_type": "code",
   "execution_count": 23,
   "id": "96a8efdb-fd9e-4010-ab7a-db5db5976e57",
   "metadata": {},
   "outputs": [],
   "source": [
    "# Assign weights and calculate the composite score\n",
    "weights = {\n",
    "    'total_inbounds': 0.2,\n",
    "    'total_weight': 0.3,\n",
    "    'total_volume': 0.3,\n",
    "    'average_weight': 0.1,\n",
    "    'average_volume': 0.1\n",
    "}"
   ]
  },
  {
   "cell_type": "code",
   "execution_count": 25,
   "id": "70df2fb5-055d-440e-8e38-ad3151fed02f",
   "metadata": {},
   "outputs": [],
   "source": [
    "depot_metrics['composite_score'] = (\n",
    "    normalized_df['total_inbounds'] * weights['total_inbounds'] +\n",
    "    normalized_df['total_weight'] * weights['total_weight'] +\n",
    "    normalized_df['total_volume'] * weights['total_volume'] +\n",
    "    normalized_df['average_weight'] * weights['average_weight'] +\n",
    "    normalized_df['average_volume'] * weights['average_volume']\n",
    ")"
   ]
  },
  {
   "cell_type": "code",
   "execution_count": 27,
   "id": "c3b69f94-8123-4e65-9714-918aabfd4432",
   "metadata": {},
   "outputs": [
    {
     "name": "stdout",
     "output_type": "stream",
     "text": [
      "    DESTINATION_DEPOT_ID  total_inbounds  total_weight  average_weight  \\\n",
      "0                    100           22132     130276.61        5.886346   \n",
      "1                    110           13950      90925.23        6.517938   \n",
      "2                    120           16113     111833.48        6.940575   \n",
      "3                    130           15751     112997.16        7.173967   \n",
      "4                    140            8126      65756.45        8.092106   \n",
      "..                   ...             ...           ...             ...   \n",
      "63                   850           16520      92440.59        5.595677   \n",
      "64                   860           12823      83851.43        6.539143   \n",
      "65                   870           17150      96674.83        5.637016   \n",
      "66                   880           10763      68300.67        6.345877   \n",
      "67                   890           14069      80658.08        5.733036   \n",
      "\n",
      "    total_volume  average_volume  composite_score  \n",
      "0       73982.47       10.104134         0.429883  \n",
      "1       40547.93       11.081697         0.329601  \n",
      "2        2237.49        3.766818         0.212871  \n",
      "3       47464.80       10.728933         0.375296  \n",
      "4       23551.92       11.438524         0.288152  \n",
      "..           ...             ...              ...  \n",
      "63      52627.64        8.867336         0.315952  \n",
      "64      36449.91        8.825644         0.282801  \n",
      "65      48822.14        7.680060         0.302268  \n",
      "66      30544.91       10.164696         0.264266  \n",
      "67      43487.99       10.141789         0.299025  \n",
      "\n",
      "[68 rows x 7 columns]\n"
     ]
    }
   ],
   "source": [
    "# Print the resulting DataFrame with composite scores\n",
    "print(depot_metrics)"
   ]
  },
  {
   "cell_type": "markdown",
   "id": "6ca9ac7e-205c-4d62-8924-3aa9b72fe820",
   "metadata": {},
   "source": [
    "## Optimization of weights: 2 methods "
   ]
  },
  {
   "cell_type": "markdown",
   "id": "681b8bd7-611b-4e5b-8305-6314ab3a6e3c",
   "metadata": {},
   "source": [
    "### Method 1: Correlation Analysis"
   ]
  },
  {
   "cell_type": "markdown",
   "id": "7f28b99c-2de9-4fe1-8d2c-2d542b1a1bb0",
   "metadata": {},
   "source": [
    "#### Less computational heavy than Grid Search\n",
    "The idea is to adjust weights to maximize the correlation between the composite score and the target variable (in this case on_time).\n",
    "#### BUT\n",
    "We use Pearson's correlation which is a standard correlation measures that assumes a linear relationship between the variables. If the relationship is nonlinear, the correlation may not fully capture the dependency."
   ]
  },
  {
   "cell_type": "code",
   "execution_count": 37,
   "id": "7a04956a-4afc-4189-8d33-57f6d24b3530",
   "metadata": {},
   "outputs": [],
   "source": [
    "# Define a function to calculate correlation for given weights\n",
    "def calculate_correlation(weights):\n",
    "    depot_metrics['composite_score'] = calculate_composite_score(weights)\n",
    "    correlation, _ = pearsonr(depot_metrics['composite_score'], depot_metrics['on_time_rate'])\n",
    "    return correlation"
   ]
  },
  {
   "cell_type": "code",
   "execution_count": 41,
   "id": "4fe89370-2d3d-498a-9960-6e0807e9bcfa",
   "metadata": {},
   "outputs": [],
   "source": [
    "# Define a function to calculate the composite score given a set of weights\n",
    "def calculate_composite_score(weights):\n",
    "    scores = (normalized_df['total_inbounds'] * weights[0] +\n",
    "              normalized_df['total_weight'] * weights[1] +\n",
    "              normalized_df['total_volume'] * weights[2] +\n",
    "              normalized_df['average_weight'] * weights[3] +\n",
    "              normalized_df['average_volume'] * weights[4])\n",
    "    return scores\n"
   ]
  },
  {
   "cell_type": "code",
   "execution_count": 45,
   "id": "727490e9-306e-4b92-bc40-6d3f22c1414a",
   "metadata": {},
   "outputs": [],
   "source": [
    "# On_time_rate is a column in depot_metrics that we want to predict\n",
    "depot_metrics['on_time_rate'] = inbound_df_filtered.groupby('DESTINATION_DEPOT_ID')['ON_TIME'].mean().values * 100"
   ]
  },
  {
   "cell_type": "code",
   "execution_count": 86,
   "id": "14cbf971-8cfc-4a00-88e7-eec5e1c19d41",
   "metadata": {},
   "outputs": [],
   "source": [
    "import itertools"
   ]
  },
  {
   "cell_type": "code",
   "execution_count": 88,
   "id": "6a9b0a8f-41ca-4594-ba78-00353b0e2455",
   "metadata": {},
   "outputs": [],
   "source": [
    "# Define the steps and range for each weight component\n",
    "step = 0.1\n",
    "components = 5  # Number of KPIs"
   ]
  },
  {
   "cell_type": "code",
   "execution_count": 104,
   "id": "a32daeba-1dcc-452b-acd5-4a433e2c8537",
   "metadata": {},
   "outputs": [],
   "source": [
    "# Generate all possible combinations with the given step size\n",
    "weights_combinations = []\n",
    "for comb in itertools.product(np.arange(0, 1 + step, step), repeat=components):\n",
    "    if sum(comb) == 1.0:  # Ensure the weights sum up to 1\n",
    "        # Exclude cases where exactly one component has weight 1 and others have weight 0\n",
    "        if not any(weight == 1.0 and all(w == 0.0 for w in comb if w != weight) for weight in comb):\n",
    "            weights_combinations.append(list(comb))"
   ]
  },
  {
   "cell_type": "code",
   "execution_count": 106,
   "id": "0fc53a42-cb62-458a-bae2-dd40533cdae5",
   "metadata": {},
   "outputs": [
    {
     "name": "stdout",
     "output_type": "stream",
     "text": [
      "Generated weight combinations (first 5): [[0.0, 0.0, 0.0, 0.1, 0.9], [0.0, 0.0, 0.0, 0.2, 0.8], [0.0, 0.0, 0.0, 0.30000000000000004, 0.7000000000000001], [0.0, 0.0, 0.0, 0.4, 0.6000000000000001], [0.0, 0.0, 0.0, 0.5, 0.5]]\n",
      "Total combinations generated: 872\n"
     ]
    }
   ],
   "source": [
    "# Print out the first few combinations as an example\n",
    "print(\"Generated weight combinations (first 5):\", weights_combinations[:5])\n",
    "print(f\"Total combinations generated: {len(weights_combinations)}\")"
   ]
  },
  {
   "cell_type": "code",
   "execution_count": 119,
   "id": "46bf8b29-4856-4aee-a0a2-4bcd2624cd3d",
   "metadata": {},
   "outputs": [],
   "source": [
    "# Example param_grid with generated weights for GridSearchCV\n",
    "param_grid = {\n",
    "    'weights': weights_combinations\n",
    "}"
   ]
  },
  {
   "cell_type": "code",
   "execution_count": 121,
   "id": "a2708b79-3651-4b0c-ac6e-62332056ae41",
   "metadata": {},
   "outputs": [
    {
     "name": "stdout",
     "output_type": "stream",
     "text": [
      "Best weights based on correlation: [0.9, 0.0, 0.0, 0.0, 0.1]\n",
      "Best correlation: 0.3997661649823148\n"
     ]
    }
   ],
   "source": [
    "# Iterate over a grid of weights to find the best correlation\n",
    "best_correlation = -1\n",
    "best_weights = None\n",
    "for weights in param_grid['weights']:\n",
    "    correlation = calculate_correlation(weights)\n",
    "    if correlation > best_correlation:\n",
    "        best_correlation = correlation\n",
    "        best_weights = weights\n",
    "\n",
    "print(\"Best weights based on correlation:\", best_weights)\n",
    "print(\"Best correlation:\", best_correlation)"
   ]
  },
  {
   "cell_type": "markdown",
   "id": "84a26659-5213-446b-94fb-c61f668c5540",
   "metadata": {},
   "source": [
    "### Method 2: Using Custom Estimator for GridSearchCV"
   ]
  },
  {
   "cell_type": "markdown",
   "id": "f3e8b495-9679-496e-8bfe-53788a808566",
   "metadata": {},
   "source": [
    "Grid search is a systematic method to tune the relevant hyperparameters. It involves specifying a grid of possible values for each hyperparameter and evaluating a model for every combination of these values.\n",
    "The goal is to find the combination that maximizes a particular metric which is our case is on_time.\n",
    "#### BUT\n",
    "It explores all possible combinations within the specified grid which is computationally heavy."
   ]
  },
  {
   "cell_type": "code",
   "execution_count": 59,
   "id": "372eaaf7-7a73-4b54-97ea-f926b29acf65",
   "metadata": {},
   "outputs": [],
   "source": [
    "from sklearn.base import BaseEstimator, RegressorMixin"
   ]
  },
  {
   "cell_type": "code",
   "execution_count": 61,
   "id": "01f382a1-d7b8-4b8f-ab06-6114d48c6fb9",
   "metadata": {},
   "outputs": [],
   "source": [
    "class WeightedKPIRegressor(BaseEstimator, RegressorMixin):\n",
    "    def __init__(self, weights=[1, 1, 1, 1, 1]):\n",
    "        self.weights = weights\n",
    "\n",
    "    def fit(self, X, y):\n",
    "        self.X_ = X\n",
    "        self.y_ = y\n",
    "        return self\n",
    "\n",
    "    def predict(self, X):\n",
    "        # Calculate the weighted sum of the KPIs\n",
    "        weighted_sum = np.dot(X, self.weights)\n",
    "        return weighted_sum\n",
    "\n",
    "    def score(self, X, y):\n",
    "        # Use a scoring function, such as the negative mean squared error\n",
    "        predictions = self.predict(X)\n",
    "        mse = np.mean((predictions - y) ** 2)\n",
    "        return -mse"
   ]
  },
  {
   "cell_type": "code",
   "execution_count": 63,
   "id": "f61e5168-5bf3-4390-97cf-4fd3788b29b8",
   "metadata": {},
   "outputs": [],
   "source": [
    "# Create the custom regressor with the defined weights\n",
    "regressor = WeightedKPIRegressor()"
   ]
  },
  {
   "cell_type": "code",
   "execution_count": 110,
   "id": "f2af0877-a3e6-4005-88ba-a7016a08bc4c",
   "metadata": {},
   "outputs": [],
   "source": [
    "# Since we're manually specifying weights, we can use a dummy X\n",
    "X_dummy = normalized_df.values\n",
    "y_target = depot_metrics['on_time_rate']"
   ]
  },
  {
   "cell_type": "code",
   "execution_count": 112,
   "id": "6eec56ba-53d6-4c39-a43b-82f7c8a627ab",
   "metadata": {},
   "outputs": [],
   "source": [
    "# Create a GridSearchCV object with the custom estimator\n",
    "grid_search = GridSearchCV(estimator=regressor, param_grid=param_grid, scoring='neg_mean_squared_error', cv=3)"
   ]
  },
  {
   "cell_type": "code",
   "execution_count": 114,
   "id": "6e340f08-54e7-4fef-90ae-9b5d850b05b8",
   "metadata": {},
   "outputs": [
    {
     "data": {
      "text/html": [
       "<style>#sk-container-id-4 {color: black;background-color: white;}#sk-container-id-4 pre{padding: 0;}#sk-container-id-4 div.sk-toggleable {background-color: white;}#sk-container-id-4 label.sk-toggleable__label {cursor: pointer;display: block;width: 100%;margin-bottom: 0;padding: 0.3em;box-sizing: border-box;text-align: center;}#sk-container-id-4 label.sk-toggleable__label-arrow:before {content: \"▸\";float: left;margin-right: 0.25em;color: #696969;}#sk-container-id-4 label.sk-toggleable__label-arrow:hover:before {color: black;}#sk-container-id-4 div.sk-estimator:hover label.sk-toggleable__label-arrow:before {color: black;}#sk-container-id-4 div.sk-toggleable__content {max-height: 0;max-width: 0;overflow: hidden;text-align: left;background-color: #f0f8ff;}#sk-container-id-4 div.sk-toggleable__content pre {margin: 0.2em;color: black;border-radius: 0.25em;background-color: #f0f8ff;}#sk-container-id-4 input.sk-toggleable__control:checked~div.sk-toggleable__content {max-height: 200px;max-width: 100%;overflow: auto;}#sk-container-id-4 input.sk-toggleable__control:checked~label.sk-toggleable__label-arrow:before {content: \"▾\";}#sk-container-id-4 div.sk-estimator input.sk-toggleable__control:checked~label.sk-toggleable__label {background-color: #d4ebff;}#sk-container-id-4 div.sk-label input.sk-toggleable__control:checked~label.sk-toggleable__label {background-color: #d4ebff;}#sk-container-id-4 input.sk-hidden--visually {border: 0;clip: rect(1px 1px 1px 1px);clip: rect(1px, 1px, 1px, 1px);height: 1px;margin: -1px;overflow: hidden;padding: 0;position: absolute;width: 1px;}#sk-container-id-4 div.sk-estimator {font-family: monospace;background-color: #f0f8ff;border: 1px dotted black;border-radius: 0.25em;box-sizing: border-box;margin-bottom: 0.5em;}#sk-container-id-4 div.sk-estimator:hover {background-color: #d4ebff;}#sk-container-id-4 div.sk-parallel-item::after {content: \"\";width: 100%;border-bottom: 1px solid gray;flex-grow: 1;}#sk-container-id-4 div.sk-label:hover label.sk-toggleable__label {background-color: #d4ebff;}#sk-container-id-4 div.sk-serial::before {content: \"\";position: absolute;border-left: 1px solid gray;box-sizing: border-box;top: 0;bottom: 0;left: 50%;z-index: 0;}#sk-container-id-4 div.sk-serial {display: flex;flex-direction: column;align-items: center;background-color: white;padding-right: 0.2em;padding-left: 0.2em;position: relative;}#sk-container-id-4 div.sk-item {position: relative;z-index: 1;}#sk-container-id-4 div.sk-parallel {display: flex;align-items: stretch;justify-content: center;background-color: white;position: relative;}#sk-container-id-4 div.sk-item::before, #sk-container-id-4 div.sk-parallel-item::before {content: \"\";position: absolute;border-left: 1px solid gray;box-sizing: border-box;top: 0;bottom: 0;left: 50%;z-index: -1;}#sk-container-id-4 div.sk-parallel-item {display: flex;flex-direction: column;z-index: 1;position: relative;background-color: white;}#sk-container-id-4 div.sk-parallel-item:first-child::after {align-self: flex-end;width: 50%;}#sk-container-id-4 div.sk-parallel-item:last-child::after {align-self: flex-start;width: 50%;}#sk-container-id-4 div.sk-parallel-item:only-child::after {width: 0;}#sk-container-id-4 div.sk-dashed-wrapped {border: 1px dashed gray;margin: 0 0.4em 0.5em 0.4em;box-sizing: border-box;padding-bottom: 0.4em;background-color: white;}#sk-container-id-4 div.sk-label label {font-family: monospace;font-weight: bold;display: inline-block;line-height: 1.2em;}#sk-container-id-4 div.sk-label-container {text-align: center;}#sk-container-id-4 div.sk-container {/* jupyter's `normalize.less` sets `[hidden] { display: none; }` but bootstrap.min.css set `[hidden] { display: none !important; }` so we also need the `!important` here to be able to override the default hidden behavior on the sphinx rendered scikit-learn.org. See: https://github.com/scikit-learn/scikit-learn/issues/21755 */display: inline-block !important;position: relative;}#sk-container-id-4 div.sk-text-repr-fallback {display: none;}</style><div id=\"sk-container-id-4\" class=\"sk-top-container\"><div class=\"sk-text-repr-fallback\"><pre>GridSearchCV(cv=3, estimator=WeightedKPIRegressor(),\n",
       "             param_grid={&#x27;weights&#x27;: [[0.0, 0.0, 0.0, 0.1, 0.9],\n",
       "                                     [0.0, 0.0, 0.0, 0.2, 0.8],\n",
       "                                     [0.0, 0.0, 0.0, 0.30000000000000004,\n",
       "                                      0.7000000000000001],\n",
       "                                     [0.0, 0.0, 0.0, 0.4, 0.6000000000000001],\n",
       "                                     [0.0, 0.0, 0.0, 0.5, 0.5],\n",
       "                                     [0.0, 0.0, 0.0, 0.6000000000000001, 0.4],\n",
       "                                     [0.0, 0.0, 0.0, 0.7000000000000001,\n",
       "                                      0.30000000000000004],\n",
       "                                     [0.0, 0.0, 0.0, 0.8, 0.2],\n",
       "                                     [0.0, 0.0...\n",
       "                                     [0.0, 0.0, 0.2, 0.2, 0.6000000000000001],\n",
       "                                     [0.0, 0.0, 0.2, 0.30000000000000004, 0.5],\n",
       "                                     [0.0, 0.0, 0.2, 0.4, 0.4],\n",
       "                                     [0.0, 0.0, 0.2, 0.5, 0.30000000000000004],\n",
       "                                     [0.0, 0.0, 0.2, 0.6000000000000001, 0.2],\n",
       "                                     [0.0, 0.0, 0.2, 0.8, 0.0],\n",
       "                                     [0.0, 0.0, 0.30000000000000004, 0.0,\n",
       "                                      0.7000000000000001],\n",
       "                                     [0.0, 0.0, 0.30000000000000004, 0.1,\n",
       "                                      0.6000000000000001],\n",
       "                                     [0.0, 0.0, 0.30000000000000004, 0.2, 0.5], ...]},\n",
       "             scoring=&#x27;neg_mean_squared_error&#x27;)</pre><b>In a Jupyter environment, please rerun this cell to show the HTML representation or trust the notebook. <br />On GitHub, the HTML representation is unable to render, please try loading this page with nbviewer.org.</b></div><div class=\"sk-container\" hidden><div class=\"sk-item sk-dashed-wrapped\"><div class=\"sk-label-container\"><div class=\"sk-label sk-toggleable\"><input class=\"sk-toggleable__control sk-hidden--visually\" id=\"sk-estimator-id-10\" type=\"checkbox\" ><label for=\"sk-estimator-id-10\" class=\"sk-toggleable__label sk-toggleable__label-arrow\">GridSearchCV</label><div class=\"sk-toggleable__content\"><pre>GridSearchCV(cv=3, estimator=WeightedKPIRegressor(),\n",
       "             param_grid={&#x27;weights&#x27;: [[0.0, 0.0, 0.0, 0.1, 0.9],\n",
       "                                     [0.0, 0.0, 0.0, 0.2, 0.8],\n",
       "                                     [0.0, 0.0, 0.0, 0.30000000000000004,\n",
       "                                      0.7000000000000001],\n",
       "                                     [0.0, 0.0, 0.0, 0.4, 0.6000000000000001],\n",
       "                                     [0.0, 0.0, 0.0, 0.5, 0.5],\n",
       "                                     [0.0, 0.0, 0.0, 0.6000000000000001, 0.4],\n",
       "                                     [0.0, 0.0, 0.0, 0.7000000000000001,\n",
       "                                      0.30000000000000004],\n",
       "                                     [0.0, 0.0, 0.0, 0.8, 0.2],\n",
       "                                     [0.0, 0.0...\n",
       "                                     [0.0, 0.0, 0.2, 0.2, 0.6000000000000001],\n",
       "                                     [0.0, 0.0, 0.2, 0.30000000000000004, 0.5],\n",
       "                                     [0.0, 0.0, 0.2, 0.4, 0.4],\n",
       "                                     [0.0, 0.0, 0.2, 0.5, 0.30000000000000004],\n",
       "                                     [0.0, 0.0, 0.2, 0.6000000000000001, 0.2],\n",
       "                                     [0.0, 0.0, 0.2, 0.8, 0.0],\n",
       "                                     [0.0, 0.0, 0.30000000000000004, 0.0,\n",
       "                                      0.7000000000000001],\n",
       "                                     [0.0, 0.0, 0.30000000000000004, 0.1,\n",
       "                                      0.6000000000000001],\n",
       "                                     [0.0, 0.0, 0.30000000000000004, 0.2, 0.5], ...]},\n",
       "             scoring=&#x27;neg_mean_squared_error&#x27;)</pre></div></div></div><div class=\"sk-parallel\"><div class=\"sk-parallel-item\"><div class=\"sk-item\"><div class=\"sk-label-container\"><div class=\"sk-label sk-toggleable\"><input class=\"sk-toggleable__control sk-hidden--visually\" id=\"sk-estimator-id-11\" type=\"checkbox\" ><label for=\"sk-estimator-id-11\" class=\"sk-toggleable__label sk-toggleable__label-arrow\">estimator: WeightedKPIRegressor</label><div class=\"sk-toggleable__content\"><pre>WeightedKPIRegressor()</pre></div></div></div><div class=\"sk-serial\"><div class=\"sk-item\"><div class=\"sk-estimator sk-toggleable\"><input class=\"sk-toggleable__control sk-hidden--visually\" id=\"sk-estimator-id-12\" type=\"checkbox\" ><label for=\"sk-estimator-id-12\" class=\"sk-toggleable__label sk-toggleable__label-arrow\">WeightedKPIRegressor</label><div class=\"sk-toggleable__content\"><pre>WeightedKPIRegressor()</pre></div></div></div></div></div></div></div></div></div></div>"
      ],
      "text/plain": [
       "GridSearchCV(cv=3, estimator=WeightedKPIRegressor(),\n",
       "             param_grid={'weights': [[0.0, 0.0, 0.0, 0.1, 0.9],\n",
       "                                     [0.0, 0.0, 0.0, 0.2, 0.8],\n",
       "                                     [0.0, 0.0, 0.0, 0.30000000000000004,\n",
       "                                      0.7000000000000001],\n",
       "                                     [0.0, 0.0, 0.0, 0.4, 0.6000000000000001],\n",
       "                                     [0.0, 0.0, 0.0, 0.5, 0.5],\n",
       "                                     [0.0, 0.0, 0.0, 0.6000000000000001, 0.4],\n",
       "                                     [0.0, 0.0, 0.0, 0.7000000000000001,\n",
       "                                      0.30000000000000004],\n",
       "                                     [0.0, 0.0, 0.0, 0.8, 0.2],\n",
       "                                     [0.0, 0.0...\n",
       "                                     [0.0, 0.0, 0.2, 0.2, 0.6000000000000001],\n",
       "                                     [0.0, 0.0, 0.2, 0.30000000000000004, 0.5],\n",
       "                                     [0.0, 0.0, 0.2, 0.4, 0.4],\n",
       "                                     [0.0, 0.0, 0.2, 0.5, 0.30000000000000004],\n",
       "                                     [0.0, 0.0, 0.2, 0.6000000000000001, 0.2],\n",
       "                                     [0.0, 0.0, 0.2, 0.8, 0.0],\n",
       "                                     [0.0, 0.0, 0.30000000000000004, 0.0,\n",
       "                                      0.7000000000000001],\n",
       "                                     [0.0, 0.0, 0.30000000000000004, 0.1,\n",
       "                                      0.6000000000000001],\n",
       "                                     [0.0, 0.0, 0.30000000000000004, 0.2, 0.5], ...]},\n",
       "             scoring='neg_mean_squared_error')"
      ]
     },
     "execution_count": 114,
     "metadata": {},
     "output_type": "execute_result"
    }
   ],
   "source": [
    "# Fit the grid search to the data\n",
    "grid_search.fit(X_dummy, y_target)"
   ]
  },
  {
   "cell_type": "code",
   "execution_count": 115,
   "id": "072c91f6-6055-4197-88fe-3860fe8e8c80",
   "metadata": {},
   "outputs": [
    {
     "name": "stdout",
     "output_type": "stream",
     "text": [
      "Best weights: {'weights': [0.1, 0.0, 0.0, 0.0, 0.9]}\n",
      "Best score: 7088.2553901485735\n"
     ]
    }
   ],
   "source": [
    "# Output the best weights and the best score\n",
    "print(\"Best weights:\", grid_search.best_params_)\n",
    "print(\"Best score:\", -grid_search.best_score_)  \n",
    "# score is negative MSE, so we negate to get the MSE"
   ]
  },
  {
   "cell_type": "code",
   "execution_count": 131,
   "id": "c2f437f3-e1a1-4ebe-b046-87d86e0d5b12",
   "metadata": {},
   "outputs": [
    {
     "name": "stdout",
     "output_type": "stream",
     "text": [
      "Best weights: {'weights': [0.1, 0.0, 0.0, 0.0, 0.9]}\n"
     ]
    }
   ],
   "source": [
    "# We put these weights in best_Weights\n",
    "best_weights = grid_search.best_params_"
   ]
  },
  {
   "cell_type": "markdown",
   "id": "b1c64c82-87ba-47e1-8f58-a635284b4363",
   "metadata": {},
   "source": [
    "#### We see for both methods that total inbounds has weight 0.1 and average volume 0.9"
   ]
  },
  {
   "cell_type": "markdown",
   "id": "1a8b8adb-33dc-479a-a84e-d72749ecc048",
   "metadata": {},
   "source": [
    "# Change weight in Composite Scores"
   ]
  },
  {
   "cell_type": "code",
   "execution_count": 139,
   "id": "48b31190-7935-41bf-835b-48b93e983ee8",
   "metadata": {},
   "outputs": [],
   "source": [
    "# Depot_metrics is the DataFrame to which we are adding the tuned composite score\n",
    "depot_metrics['tuned_composite_score'] = (\n",
    "    normalized_df['total_inbounds'] * 0.1 +\n",
    "    normalized_df['average_volume'] * 0.9\n",
    ")"
   ]
  },
  {
   "cell_type": "code",
   "execution_count": 141,
   "id": "fea3946a-7afb-4edd-9b9b-f3628860a1ff",
   "metadata": {},
   "outputs": [
    {
     "name": "stdout",
     "output_type": "stream",
     "text": [
      "   DESTINATION_DEPOT_ID  total_inbounds  total_weight  average_weight  \\\n",
      "0                   100           22132     130276.61        5.886346   \n",
      "1                   110           13950      90925.23        6.517938   \n",
      "2                   120           16113     111833.48        6.940575   \n",
      "3                   130           15751     112997.16        7.173967   \n",
      "4                   140            8126      65756.45        8.092106   \n",
      "\n",
      "   total_volume  average_volume  composite_score  on_time_rate  \\\n",
      "0      73982.47       10.104134         0.556683     80.801554   \n",
      "1      40547.93       11.081697         0.349623     86.265233   \n",
      "2       2237.49        3.766818         0.407139     66.126730   \n",
      "3      47464.80       10.728933         0.398746     83.245508   \n",
      "4      23551.92       11.438524         0.202987     79.239478   \n",
      "\n",
      "   tuned_composite_score  \n",
      "0               0.801556  \n",
      "1               0.894387  \n",
      "2               0.042024  \n",
      "3               0.857813  \n",
      "4               0.920694  \n"
     ]
    }
   ],
   "source": [
    "# Print the resulting composite scores\n",
    "print(depot_metrics.head())"
   ]
  },
  {
   "cell_type": "code",
   "execution_count": 152,
   "id": "ec0f930d-cb92-4808-ab1b-a4593ce3a75e",
   "metadata": {},
   "outputs": [],
   "source": [
    "# Add the ABNORMAL column based on the condition\n",
    "depot_metrics['ABNORMAL'] = depot_metrics['on_time_rate'].apply(lambda x: 1 if x < 50 else 0)"
   ]
  },
  {
   "cell_type": "code",
   "execution_count": 235,
   "id": "47551330-fb11-434f-b182-fe904ac8550f",
   "metadata": {},
   "outputs": [
    {
     "data": {
      "image/png": "[encoded data removed]",
      "text/plain": [
       "<Figure size 1000x600 with 1 Axes>"
      ]
     },
     "metadata": {},
     "output_type": "display_data"
    }
   ],
   "source": [
    "# Plot histogram of composite scores\n",
    "plt.figure(figsize=(10, 6))\n",
    "plt.hist(depot_metrics['composite_score'], bins=30, edgecolor='black')\n",
    "plt.title('Distribution of Composite Scores')\n",
    "plt.xlabel('Composite Score')\n",
    "plt.ylabel('Frequency')\n",
    "plt.show()"
   ]
  },
  {
   "cell_type": "markdown",
   "id": "305f508e-d9fc-4998-a915-6341dfc4891e",
   "metadata": {},
   "source": [
    "# Random Forest model to predict on_time deliveries using the composite score"
   ]
  },
  {
   "cell_type": "markdown",
   "id": "b8fee20c-509c-4c87-94a6-3813dc4c9b88",
   "metadata": {},
   "source": [
    "### Classification: Using the discrete ABNORMAL column as target variable"
   ]
  },
  {
   "cell_type": "code",
   "execution_count": 146,
   "id": "981467e7-0921-4e14-8253-8198779bac97",
   "metadata": {},
   "outputs": [],
   "source": [
    "from sklearn.model_selection import train_test_split\n",
    "from sklearn.ensemble import RandomForestClassifier\n",
    "from sklearn.metrics import accuracy_score"
   ]
  },
  {
   "cell_type": "code",
   "execution_count": 154,
   "id": "8ba4e671-a384-4a7a-8d4f-65c1a4a8838d",
   "metadata": {},
   "outputs": [],
   "source": [
    "X = depot_metrics[['composite_score']]\n",
    "y = depot_metrics[['ABNORMAL']]"
   ]
  },
  {
   "cell_type": "code",
   "execution_count": 156,
   "id": "38b1e8fd-20fc-4de4-8600-3d1567f09499",
   "metadata": {},
   "outputs": [
    {
     "data": {
      "text/html": [
       "<style>#sk-container-id-5 {color: black;background-color: white;}#sk-container-id-5 pre{padding: 0;}#sk-container-id-5 div.sk-toggleable {background-color: white;}#sk-container-id-5 label.sk-toggleable__label {cursor: pointer;display: block;width: 100%;margin-bottom: 0;padding: 0.3em;box-sizing: border-box;text-align: center;}#sk-container-id-5 label.sk-toggleable__label-arrow:before {content: \"▸\";float: left;margin-right: 0.25em;color: #696969;}#sk-container-id-5 label.sk-toggleable__label-arrow:hover:before {color: black;}#sk-container-id-5 div.sk-estimator:hover label.sk-toggleable__label-arrow:before {color: black;}#sk-container-id-5 div.sk-toggleable__content {max-height: 0;max-width: 0;overflow: hidden;text-align: left;background-color: #f0f8ff;}#sk-container-id-5 div.sk-toggleable__content pre {margin: 0.2em;color: black;border-radius: 0.25em;background-color: #f0f8ff;}#sk-container-id-5 input.sk-toggleable__control:checked~div.sk-toggleable__content {max-height: 200px;max-width: 100%;overflow: auto;}#sk-container-id-5 input.sk-toggleable__control:checked~label.sk-toggleable__label-arrow:before {content: \"▾\";}#sk-container-id-5 div.sk-estimator input.sk-toggleable__control:checked~label.sk-toggleable__label {background-color: #d4ebff;}#sk-container-id-5 div.sk-label input.sk-toggleable__control:checked~label.sk-toggleable__label {background-color: #d4ebff;}#sk-container-id-5 input.sk-hidden--visually {border: 0;clip: rect(1px 1px 1px 1px);clip: rect(1px, 1px, 1px, 1px);height: 1px;margin: -1px;overflow: hidden;padding: 0;position: absolute;width: 1px;}#sk-container-id-5 div.sk-estimator {font-family: monospace;background-color: #f0f8ff;border: 1px dotted black;border-radius: 0.25em;box-sizing: border-box;margin-bottom: 0.5em;}#sk-container-id-5 div.sk-estimator:hover {background-color: #d4ebff;}#sk-container-id-5 div.sk-parallel-item::after {content: \"\";width: 100%;border-bottom: 1px solid gray;flex-grow: 1;}#sk-container-id-5 div.sk-label:hover label.sk-toggleable__label {background-color: #d4ebff;}#sk-container-id-5 div.sk-serial::before {content: \"\";position: absolute;border-left: 1px solid gray;box-sizing: border-box;top: 0;bottom: 0;left: 50%;z-index: 0;}#sk-container-id-5 div.sk-serial {display: flex;flex-direction: column;align-items: center;background-color: white;padding-right: 0.2em;padding-left: 0.2em;position: relative;}#sk-container-id-5 div.sk-item {position: relative;z-index: 1;}#sk-container-id-5 div.sk-parallel {display: flex;align-items: stretch;justify-content: center;background-color: white;position: relative;}#sk-container-id-5 div.sk-item::before, #sk-container-id-5 div.sk-parallel-item::before {content: \"\";position: absolute;border-left: 1px solid gray;box-sizing: border-box;top: 0;bottom: 0;left: 50%;z-index: -1;}#sk-container-id-5 div.sk-parallel-item {display: flex;flex-direction: column;z-index: 1;position: relative;background-color: white;}#sk-container-id-5 div.sk-parallel-item:first-child::after {align-self: flex-end;width: 50%;}#sk-container-id-5 div.sk-parallel-item:last-child::after {align-self: flex-start;width: 50%;}#sk-container-id-5 div.sk-parallel-item:only-child::after {width: 0;}#sk-container-id-5 div.sk-dashed-wrapped {border: 1px dashed gray;margin: 0 0.4em 0.5em 0.4em;box-sizing: border-box;padding-bottom: 0.4em;background-color: white;}#sk-container-id-5 div.sk-label label {font-family: monospace;font-weight: bold;display: inline-block;line-height: 1.2em;}#sk-container-id-5 div.sk-label-container {text-align: center;}#sk-container-id-5 div.sk-container {/* jupyter's `normalize.less` sets `[hidden] { display: none; }` but bootstrap.min.css set `[hidden] { display: none !important; }` so we also need the `!important` here to be able to override the default hidden behavior on the sphinx rendered scikit-learn.org. See: https://github.com/scikit-learn/scikit-learn/issues/21755 */display: inline-block !important;position: relative;}#sk-container-id-5 div.sk-text-repr-fallback {display: none;}</style><div id=\"sk-container-id-5\" class=\"sk-top-container\"><div class=\"sk-text-repr-fallback\"><pre>RandomForestClassifier()</pre><b>In a Jupyter environment, please rerun this cell to show the HTML representation or trust the notebook. <br />On GitHub, the HTML representation is unable to render, please try loading this page with nbviewer.org.</b></div><div class=\"sk-container\" hidden><div class=\"sk-item\"><div class=\"sk-estimator sk-toggleable\"><input class=\"sk-toggleable__control sk-hidden--visually\" id=\"sk-estimator-id-13\" type=\"checkbox\" checked><label for=\"sk-estimator-id-13\" class=\"sk-toggleable__label sk-toggleable__label-arrow\">RandomForestClassifier</label><div class=\"sk-toggleable__content\"><pre>RandomForestClassifier()</pre></div></div></div></div></div>"
      ],
      "text/plain": [
       "RandomForestClassifier()"
      ]
     },
     "execution_count": 156,
     "metadata": {},
     "output_type": "execute_result"
    }
   ],
   "source": [
    "# Split the data\n",
    "X_train, X_test, y_train, y_test = train_test_split(X, y, test_size=0.2, random_state=42)\n",
    "\n",
    "# Train a model\n",
    "model = RandomForestClassifier()\n",
    "model.fit(X_train, y_train)"
   ]
  },
  {
   "cell_type": "code",
   "execution_count": 158,
   "id": "d2d06c25-4ac0-4b56-a238-b5c1f15f734a",
   "metadata": {},
   "outputs": [
    {
     "name": "stdout",
     "output_type": "stream",
     "text": [
      "Accuracy: 1.0\n"
     ]
    }
   ],
   "source": [
    "# Predict and evaluate\n",
    "y_pred = model.predict(X_test)\n",
    "print(\"Accuracy:\", accuracy_score(y_test, y_pred))"
   ]
  },
  {
   "cell_type": "markdown",
   "id": "e00eff77-ca5c-47f1-9b39-b672099ce576",
   "metadata": {},
   "source": [
    "### Regression: Using the continuous on_time_rate column as target variable"
   ]
  },
  {
   "cell_type": "code",
   "execution_count": 227,
   "id": "a3fd3ad2-76d2-494f-8efb-5811e15ce04a",
   "metadata": {},
   "outputs": [],
   "source": [
    "from sklearn.ensemble import RandomForestRegressor\n",
    "from sklearn.metrics import mean_squared_error, mean_absolute_error, r2_score"
   ]
  },
  {
   "cell_type": "code",
   "execution_count": 208,
   "id": "ea043b94-78a4-45fd-812b-97fb3f06b9d1",
   "metadata": {},
   "outputs": [],
   "source": [
    "X = depot_metrics[['tuned_composite_score']]\n",
    "y = depot_metrics[['on_time_rate']]"
   ]
  },
  {
   "cell_type": "code",
   "execution_count": 199,
   "id": "83e619a4-5be0-48b2-8742-91ce01415a5b",
   "metadata": {},
   "outputs": [
    {
     "data": {
      "text/html": [
       "<style>#sk-container-id-7 {color: black;background-color: white;}#sk-container-id-7 pre{padding: 0;}#sk-container-id-7 div.sk-toggleable {background-color: white;}#sk-container-id-7 label.sk-toggleable__label {cursor: pointer;display: block;width: 100%;margin-bottom: 0;padding: 0.3em;box-sizing: border-box;text-align: center;}#sk-container-id-7 label.sk-toggleable__label-arrow:before {content: \"▸\";float: left;margin-right: 0.25em;color: #696969;}#sk-container-id-7 label.sk-toggleable__label-arrow:hover:before {color: black;}#sk-container-id-7 div.sk-estimator:hover label.sk-toggleable__label-arrow:before {color: black;}#sk-container-id-7 div.sk-toggleable__content {max-height: 0;max-width: 0;overflow: hidden;text-align: left;background-color: #f0f8ff;}#sk-container-id-7 div.sk-toggleable__content pre {margin: 0.2em;color: black;border-radius: 0.25em;background-color: #f0f8ff;}#sk-container-id-7 input.sk-toggleable__control:checked~div.sk-toggleable__content {max-height: 200px;max-width: 100%;overflow: auto;}#sk-container-id-7 input.sk-toggleable__control:checked~label.sk-toggleable__label-arrow:before {content: \"▾\";}#sk-container-id-7 div.sk-estimator input.sk-toggleable__control:checked~label.sk-toggleable__label {background-color: #d4ebff;}#sk-container-id-7 div.sk-label input.sk-toggleable__control:checked~label.sk-toggleable__label {background-color: #d4ebff;}#sk-container-id-7 input.sk-hidden--visually {border: 0;clip: rect(1px 1px 1px 1px);clip: rect(1px, 1px, 1px, 1px);height: 1px;margin: -1px;overflow: hidden;padding: 0;position: absolute;width: 1px;}#sk-container-id-7 div.sk-estimator {font-family: monospace;background-color: #f0f8ff;border: 1px dotted black;border-radius: 0.25em;box-sizing: border-box;margin-bottom: 0.5em;}#sk-container-id-7 div.sk-estimator:hover {background-color: #d4ebff;}#sk-container-id-7 div.sk-parallel-item::after {content: \"\";width: 100%;border-bottom: 1px solid gray;flex-grow: 1;}#sk-container-id-7 div.sk-label:hover label.sk-toggleable__label {background-color: #d4ebff;}#sk-container-id-7 div.sk-serial::before {content: \"\";position: absolute;border-left: 1px solid gray;box-sizing: border-box;top: 0;bottom: 0;left: 50%;z-index: 0;}#sk-container-id-7 div.sk-serial {display: flex;flex-direction: column;align-items: center;background-color: white;padding-right: 0.2em;padding-left: 0.2em;position: relative;}#sk-container-id-7 div.sk-item {position: relative;z-index: 1;}#sk-container-id-7 div.sk-parallel {display: flex;align-items: stretch;justify-content: center;background-color: white;position: relative;}#sk-container-id-7 div.sk-item::before, #sk-container-id-7 div.sk-parallel-item::before {content: \"\";position: absolute;border-left: 1px solid gray;box-sizing: border-box;top: 0;bottom: 0;left: 50%;z-index: -1;}#sk-container-id-7 div.sk-parallel-item {display: flex;flex-direction: column;z-index: 1;position: relative;background-color: white;}#sk-container-id-7 div.sk-parallel-item:first-child::after {align-self: flex-end;width: 50%;}#sk-container-id-7 div.sk-parallel-item:last-child::after {align-self: flex-start;width: 50%;}#sk-container-id-7 div.sk-parallel-item:only-child::after {width: 0;}#sk-container-id-7 div.sk-dashed-wrapped {border: 1px dashed gray;margin: 0 0.4em 0.5em 0.4em;box-sizing: border-box;padding-bottom: 0.4em;background-color: white;}#sk-container-id-7 div.sk-label label {font-family: monospace;font-weight: bold;display: inline-block;line-height: 1.2em;}#sk-container-id-7 div.sk-label-container {text-align: center;}#sk-container-id-7 div.sk-container {/* jupyter's `normalize.less` sets `[hidden] { display: none; }` but bootstrap.min.css set `[hidden] { display: none !important; }` so we also need the `!important` here to be able to override the default hidden behavior on the sphinx rendered scikit-learn.org. See: https://github.com/scikit-learn/scikit-learn/issues/21755 */display: inline-block !important;position: relative;}#sk-container-id-7 div.sk-text-repr-fallback {display: none;}</style><div id=\"sk-container-id-7\" class=\"sk-top-container\"><div class=\"sk-text-repr-fallback\"><pre>RandomForestRegressor()</pre><b>In a Jupyter environment, please rerun this cell to show the HTML representation or trust the notebook. <br />On GitHub, the HTML representation is unable to render, please try loading this page with nbviewer.org.</b></div><div class=\"sk-container\" hidden><div class=\"sk-item\"><div class=\"sk-estimator sk-toggleable\"><input class=\"sk-toggleable__control sk-hidden--visually\" id=\"sk-estimator-id-15\" type=\"checkbox\" checked><label for=\"sk-estimator-id-15\" class=\"sk-toggleable__label sk-toggleable__label-arrow\">RandomForestRegressor</label><div class=\"sk-toggleable__content\"><pre>RandomForestRegressor()</pre></div></div></div></div></div>"
      ],
      "text/plain": [
       "RandomForestRegressor()"
      ]
     },
     "execution_count": 199,
     "metadata": {},
     "output_type": "execute_result"
    }
   ],
   "source": [
    "# Split the data\n",
    "X_train, X_test, y_train, y_test = train_test_split(X, y, test_size=0.2, random_state=42)\n",
    "\n",
    "# Train a regression model\n",
    "model = RandomForestRegressor()\n",
    "model.fit(X_train, y_train)"
   ]
  },
  {
   "cell_type": "code",
   "execution_count": 229,
   "id": "00b48224-0207-4b1d-a248-2f23df275703",
   "metadata": {},
   "outputs": [
    {
     "name": "stdout",
     "output_type": "stream",
     "text": [
      "Mean Squared Error (MSE): 28.466984841854195\n",
      "Root Mean Squared Error (RMSE): 5.34\n",
      "Mean Absolute Error (MAE): 4.314510299654355\n",
      "R-squared (R²): -1.08\n"
     ]
    }
   ],
   "source": [
    "# Evaluate the model\n",
    "mse = mean_squared_error(y_test, y_pred)\n",
    "rmse = np.sqrt(mse)\n",
    "mae = mean_absolute_error(y_test, y_pred)\n",
    "r2 = r2_score(y_test, y_pred)\n",
    "\n",
    "# Print the evaluation metrics\n",
    "print(\"Mean Squared Error (MSE):\", mse)\n",
    "print(f\"Root Mean Squared Error (RMSE): {rmse:.2f}\")\n",
    "print(\"Mean Absolute Error (MAE):\", mae)\n",
    "print(f\"R-squared (R²): {r2:.2f}\")"
   ]
  },
  {
   "cell_type": "markdown",
   "id": "e89e67fa-3fe4-4d3a-8c1f-65ea414e0b3b",
   "metadata": {},
   "source": [
    "This means, on average, our model’s predictions are off by about 5.34 units from the actual values.\n",
    "An MAE of 4.31 means that, on average, our model's predictions deviate from the actual values by 4.31 units. \n",
    "##### Unlike RMSE, MAE is not sensitive to outliers and is more robust in that regard.\n",
    "An R-squared value of -1.08 indicates that your model is performing worse than a simple mean-based model (i.e., a model that just predicts the mean of the target variable). Negative R-squared values suggest that the model is not capturing the relationship between features and the target variable effectively and might be overfitting or underfitting."
   ]
  },
  {
   "cell_type": "code",
   "execution_count": 220,
   "id": "f2f06288-1916-4471-854c-631350e12373",
   "metadata": {},
   "outputs": [],
   "source": [
    "# Predict for the entire dataset\n",
    "depot_metrics['y_pred'] = model.predict(X)"
   ]
  },
  {
   "cell_type": "code",
   "execution_count": 222,
   "id": "0664464b-d172-46e5-be91-d0efdd4d03b5",
   "metadata": {},
   "outputs": [
    {
     "name": "stdout",
     "output_type": "stream",
     "text": [
      "    DESTINATION_DEPOT_ID  total_inbounds  total_weight  average_weight  \\\n",
      "0                    100           22132     130276.61        5.886346   \n",
      "1                    110           13950      90925.23        6.517938   \n",
      "2                    120           16113     111833.48        6.940575   \n",
      "3                    130           15751     112997.16        7.173967   \n",
      "4                    140            8126      65756.45        8.092106   \n",
      "5                    150           12633      88400.94        6.997621   \n",
      "6                    160            9918      66630.69        6.718158   \n",
      "7                    170           18396     124106.56        6.746388   \n",
      "8                    180           11195      75159.79        6.713693   \n",
      "9                    190            8630      59883.83        6.939030   \n",
      "10                   200           20728     128980.18        6.222510   \n",
      "11                   210            3543      24373.63        6.879376   \n",
      "12                   220            7611      52261.83        6.866618   \n",
      "13                   230           15691     111448.65        7.102712   \n",
      "14                   250           15751      86915.10        5.518069   \n",
      "15                   260            3501      23884.91        6.822311   \n",
      "16                   270            5694      37801.84        6.638890   \n",
      "17                   280           11698      71575.63        6.118621   \n",
      "18                   290           13973      87075.64        6.231707   \n",
      "19                   300           18950     119383.89        6.299941   \n",
      "20                   330           19948     152110.36        7.625344   \n",
      "21                   350           21426     136039.88        6.349290   \n",
      "22                   360            8105      57722.54        7.121843   \n",
      "23                   370           13307      91357.55        6.865375   \n",
      "24                   400           18251      95354.63        5.224625   \n",
      "25                   410           11048      65924.23        5.967074   \n",
      "26                   420           13692      76098.38        5.557872   \n",
      "27                   430           15428      87143.30        5.648386   \n",
      "28                   440            6260      44094.41        7.043835   \n",
      "29                   450           14157      78384.78        5.536821   \n",
      "30                   460           37822     380685.71       10.065192   \n",
      "31                   470            6344      38191.93        6.020166   \n",
      "32                   480           21347     114832.33        5.379319   \n",
      "33                   490           12246      70197.43        5.732274   \n",
      "34                   500           21073     103625.52        4.917455   \n",
      "35                   540           14746     103044.04        6.987932   \n",
      "36                   550             377       2446.55        6.489523   \n",
      "37                   560            9476      55834.89        5.892243   \n",
      "38                   600           16363      94098.25        5.750672   \n",
      "39                   610            5040      31387.97        6.227772   \n",
      "40                   620           11400      72121.36        6.326435   \n",
      "41                   630           16999      96788.90        5.693800   \n",
      "42                   640            9717      53883.68        5.545300   \n",
      "43                   650            6630      43905.52        6.622250   \n",
      "44                   660           14870      94062.61        6.325663   \n",
      "45                   670            5199      35464.12        6.821335   \n",
      "46                   680           17353      99291.42        5.721859   \n",
      "47                   690            5638      43179.98        7.658741   \n",
      "48                   700           20083     104233.97        5.190159   \n",
      "49                   710           10450      62379.89        5.969367   \n",
      "50                   720           10132      57690.21        5.693862   \n",
      "51                   730           14616      83634.30        5.722106   \n",
      "52                   740           10459      63873.45        6.107032   \n",
      "53                   750           15027      84354.78        5.613548   \n",
      "\n",
      "    total_volume  average_volume  composite_score  on_time_rate  \\\n",
      "0       73982.47       10.104134         0.556683     80.801554   \n",
      "1       40547.93       11.081697         0.349623     86.265233   \n",
      "2        2237.49        3.766818         0.407139     66.126730   \n",
      "3       47464.80       10.728933         0.398746     83.245508   \n",
      "4       23551.92       11.438524         0.202987     79.239478   \n",
      "5       36417.70       10.387250         0.317301     83.843901   \n",
      "6       34944.87       11.268904         0.246290     85.087719   \n",
      "7       60956.21       11.380920         0.465256     84.860839   \n",
      "8       30250.80       10.352772         0.279237     81.188030   \n",
      "9       16773.58        8.828200         0.213548     72.259560   \n",
      "10      42178.85        8.966592         0.522595     87.760517   \n",
      "11       6172.98        8.585508         0.081893     84.899802   \n",
      "12      21282.15       11.189353         0.187041     86.979372   \n",
      "13      28989.90        8.700450         0.396894     81.664649   \n",
      "14      34902.38        9.533565         0.391850     82.204304   \n",
      "15      10140.25        9.960953         0.080754     81.433876   \n",
      "16      15125.63        9.429944         0.137143     74.675097   \n",
      "17      28975.64        9.569234         0.290380     88.476663   \n",
      "18      34199.29        9.260571         0.349158     85.386102   \n",
      "19      62176.80        6.381034         0.477323     92.759894   \n",
      "20      76861.50       10.924034         0.509962     75.406056   \n",
      "21      44847.22        9.281296         0.541238     91.043592   \n",
      "22      17135.72        9.168390         0.200358     54.793337   \n",
      "23      61769.37       10.979269         0.334282     86.984294   \n",
      "24      30130.89        8.183294         0.454169     89.529341   \n",
      "25      40749.12        9.565521         0.273263     92.433020   \n",
      "26      24964.60        8.500034         0.339502     91.016652   \n",
      "27      45297.94        7.284969         0.384147     90.115375   \n",
      "28      13239.43        9.449986         0.152410     61.980831   \n",
      "29      24217.92        7.893716         0.351283     90.478209   \n",
      "30     199496.74       11.192591         1.000000     85.135635   \n",
      "31      13357.04        7.466205         0.152869     80.548550   \n",
      "32      47801.86        7.665468         0.533732     92.312737   \n",
      "33      23567.31        8.770863         0.303187     86.224073   \n",
      "34      60439.17        8.318080         0.524184     92.027713   \n",
      "35      46799.35        8.970548         0.371959     85.067137   \n",
      "36        404.97        8.436875         0.000000     50.928382   \n",
      "37      26704.41       10.176986         0.232812     89.119882   \n",
      "38      37762.37        8.528087         0.408459     88.229542   \n",
      "39      10193.63        9.028902         0.119728     88.253968   \n",
      "40      33780.16        9.885912         0.283361     88.675439   \n",
      "41      30898.72        8.159155         0.424456     90.764163   \n",
      "42      38725.67        7.129173         0.238088     90.274776   \n",
      "43      15488.14        8.845311         0.161253     76.862745   \n",
      "44      28888.51        8.334827         0.372565     91.708137   \n",
      "45      13326.35        8.205881         0.124627     76.841700   \n",
      "46      58346.43        8.746279         0.433627     91.770875   \n",
      "47      14846.53        9.136326         0.137219     87.105357   \n",
      "48      74205.97        6.776182         0.500550     91.699447   \n",
      "49      33814.93        9.055953         0.257952     88.889952   \n",
      "50      31554.11        8.604884         0.249069     83.270825   \n",
      "51      42476.92       10.099125         0.363703     89.887794   \n",
      "52      31739.67        9.078853         0.258564     88.096376   \n",
      "53      50450.16        9.164425         0.373772     91.129301   \n",
      "\n",
      "    tuned_composite_score  ABNORMAL     y_pred  \n",
      "0                0.801556         0  82.215360  \n",
      "1                0.894387         0  83.322510  \n",
      "2                0.042024         0  73.477367  \n",
      "3                0.857813         0  83.981539  \n",
      "4                0.920694         0  80.908553  \n",
      "5                0.809401         0  82.270864  \n",
      "6                0.905581         0  84.070614  \n",
      "7                0.941364         0  83.384896  \n",
      "8                0.801516         0  82.358356  \n",
      "9                0.615812         0  76.212033  \n",
      "10               0.664356         0  84.596561  \n",
      "11               0.573756         0  86.633845  \n",
      "12               0.890088         0  78.908179  \n",
      "13               0.619682         0  82.216773  \n",
      "14               0.717579         0  85.412613  \n",
      "15               0.735003         0  84.239385  \n",
      "16               0.678565         0  77.015307  \n",
      "17               0.710939         0  88.623430  \n",
      "18               0.680805         0  79.609790  \n",
      "19               0.356285         0  87.645916  \n",
      "20               0.891909         0  78.908179  \n",
      "21               0.703140         0  88.479344  \n",
      "22               0.654319         0  67.513758  \n",
      "23               0.880654         0  83.965918  \n",
      "24               0.565849         0  87.613677  \n",
      "25               0.708768         0  90.037716  \n",
      "26               0.590832         0  90.836519  \n",
      "27               0.452924         0  87.556651  \n",
      "28               0.682427         0  69.311470  \n",
      "29               0.520944         0  85.241484  \n",
      "30               0.971149         0  84.606840  \n",
      "31               0.449926         0  83.825589  \n",
      "32               0.513369         0  85.241484  \n",
      "33               0.618743         0  82.216773  \n",
      "34               0.589198         0  91.291496  \n",
      "35               0.648845         0  83.848590  \n",
      "36               0.547864         0  66.699234  \n",
      "37               0.776303         0  87.990087  \n",
      "38               0.601256         0  87.083431  \n",
      "39               0.629770         0  87.962526  \n",
      "40               0.747294         0  87.035264  \n",
      "41               0.559674         0  86.631696  \n",
      "42               0.419395         0  87.645916  \n",
      "43               0.612479         0  77.396220  \n",
      "44               0.574597         0  86.671752  \n",
      "45               0.533643         0  80.477719  \n",
      "46               0.629497         0  89.474796  \n",
      "47               0.643969         0  84.688534  \n",
      "48               0.405668         0  87.645916  \n",
      "49               0.647391         0  83.848590  \n",
      "50               0.593625         0  86.104711  \n",
      "51               0.780896         0  88.351006  \n",
      "52               0.650102         0  78.032426  \n",
      "53               0.672340         0  86.425399  \n"
     ]
    }
   ],
   "source": [
    "print(depot_metrics)"
   ]
  },
  {
   "cell_type": "code",
   "execution_count": 224,
   "id": "0a2b2d36-2464-43c9-9f31-82f20e68a4de",
   "metadata": {},
   "outputs": [
    {
     "data": {
      "image/png": "[encoded data removed]",
      "text/plain": [
       "<Figure size 800x600 with 1 Axes>"
      ]
     },
     "metadata": {},
     "output_type": "display_data"
    }
   ],
   "source": [
    "# Create the plot\n",
    "plt.figure(figsize=(8, 6))\n",
    "plt.scatter(depot_metrics['on_time_rate'], depot_metrics['y_pred'], color='blue', label='Predicted vs Actual')\n",
    "\n",
    "# Add a diagonal line for reference\n",
    "plt.plot([depot_metrics['on_time_rate'].min(), depot_metrics['on_time_rate'].max()],\n",
    "         [depot_metrics['on_time_rate'].min(), depot_metrics['on_time_rate'].max()],\n",
    "         color='red', linestyle='--', label='Perfect Prediction')\n",
    "\n",
    "# Add titles and labels\n",
    "plt.title('Prediction vs. Actual Values')\n",
    "plt.xlabel('Actual On-Time Rate')\n",
    "plt.ylabel('Predicted On-Time Rate')\n",
    "plt.legend()\n",
    "plt.grid(True)\n",
    "\n",
    "# Show the plot\n",
    "plt.show()"
   ]
  },
  {
   "cell_type": "code",
   "execution_count": 237,
   "id": "6fba110b-9dfa-458b-9036-03a435cd4144",
   "metadata": {},
   "outputs": [
    {
     "data": {
      "image/png": "[encoded data removed]",
      "text/plain": [
       "<Figure size 800x600 with 1 Axes>"
      ]
     },
     "metadata": {},
     "output_type": "display_data"
    }
   ],
   "source": [
    "#Depot 120 \n",
    "depot120_filtered = depot_metrics[depot_metrics['DESTINATION_DEPOT_ID'] == 120]\n",
    "\n",
    "# Create the plot\n",
    "plt.figure(figsize=(8, 6))\n",
    "plt.scatter(depot120_filtered['on_time_rate'], depot120_filtered['y_pred'], color='blue', label='Predicted vs Actual')\n",
    "\n",
    "# Add a diagonal line for reference\n",
    "plt.plot([depot120_filtered['on_time_rate'].min(), depot120_filtered['on_time_rate'].max()],\n",
    "         [depot120_filtered['on_time_rate'].min(), depot120_filtered['on_time_rate'].max()],\n",
    "         color='red', linestyle='--', label='Perfect Prediction')\n",
    "\n",
    "# Add titles and labels\n",
    "plt.title('Prediction vs. Actual Values')\n",
    "plt.xlabel('Actual On-Time Rate')\n",
    "plt.ylabel('Predicted On-Time Rate')\n",
    "plt.legend()\n",
    "plt.grid(True)\n",
    "\n",
    "# Show the plot\n",
    "plt.show()"
   ]
  },
  {
   "cell_type": "markdown",
   "id": "60c197b5-6620-4cfa-a076-ad2b23998154",
   "metadata": {},
   "source": [
    "Not enough data to say anything about depot 120."
   ]
  },
  {
   "cell_type": "markdown",
   "id": "7ff0455d-10ff-4c1f-8eda-9918526551ad",
   "metadata": {},
   "source": [
    "# Peak Day/Hour Load: The number of parcels processed during peak hours"
   ]
  },
  {
   "cell_type": "code",
   "execution_count": 26,
   "id": "f0bbc441-adfe-4b2d-bd30-2d42a69f357e",
   "metadata": {},
   "outputs": [
    {
     "data": {
      "image/png": "[encoded data removed]",
      "text/plain": [
       "<Figure size 1400x800 with 2 Axes>"
      ]
     },
     "metadata": {},
     "output_type": "display_data"
    }
   ],
   "source": [
    "# Convert 'SCAN_DAY_OF_WEEK' from integer to day names\n",
    "day_names = ['Monday', 'Tuesday', 'Wednesday', 'Thursday', 'Friday', 'Saturday', 'Sunday']\n",
    "inbound_df_filtered['SCAN_DAY_NAME'] = inbound_df_filtered['SCAN_DAY_OF_WEEK'].map(lambda x: day_names[x])\n",
    "\n",
    "# Exclude Saturday and Sunday\n",
    "inbound_df_filtered = inbound_df_filtered[~inbound_df_filtered['SCAN_DAY_NAME'].isin(['Saturday', 'Sunday'])]\n",
    "\n",
    "# Ensure 'SCAN_DAY_NAME' is a categorical type with proper ordering\n",
    "inbound_df_filtered['SCAN_DAY_NAME'] = inbound_df_filtered['SCAN_DAY_NAME'].astype(pd.CategoricalDtype(categories=[\n",
    "    'Monday', 'Tuesday', 'Wednesday', 'Thursday', 'Friday'\n",
    "], ordered=True))\n",
    "\n",
    "# Group by 'SCAN_HOUR' and 'SCAN_DAY_NAME' and count the number of parcels\n",
    "parcel_counts = inbound_df_filtered.groupby(['SCAN_HOUR', 'SCAN_DAY_NAME']).size().reset_index(name='Parcel_Count')\n",
    "\n",
    "# Pivot the data for heatmap\n",
    "heatmap_data_parcel_counts = parcel_counts.pivot(index='SCAN_DAY_NAME', columns='SCAN_HOUR', values='Parcel_Count')\n",
    "\n",
    "# Ensure correct ordering of columns and index\n",
    "heatmap_data_parcel_counts = heatmap_data_parcel_counts.reindex(\n",
    "    columns=range(24),  # Assuming hours from 0 to 23\n",
    "    index=pd.CategoricalIndex(\n",
    "        ['Monday', 'Tuesday', 'Wednesday', 'Thursday', 'Friday'],\n",
    "        categories=['Monday', 'Tuesday', 'Wednesday', 'Thursday', 'Friday'],\n",
    "        ordered=True\n",
    "    )\n",
    ")\n",
    "\n",
    "# Plotting the number of parcels for Depot 120\n",
    "plt.figure(figsize=(14, 8))\n",
    "sns.heatmap(heatmap_data_parcel_counts, annot=True, fmt=\".0f\", cmap='Blues', cbar=True)\n",
    "\n",
    "# Customize the plot\n",
    "plt.xlabel('Scan Hour of the Day')\n",
    "plt.ylabel('Day of the Week')\n",
    "plt.title('Number of Parcels by Scan Hour and Day of the Week')\n",
    "\n",
    "# Show the plot\n",
    "plt.tight_layout()\n",
    "plt.show()\n"
   ]
  },
  {
   "cell_type": "code",
   "execution_count": 27,
   "id": "d1665eed-43a3-4900-bb0b-4479816aa821",
   "metadata": {},
   "outputs": [
    {
     "name": "stdout",
     "output_type": "stream",
     "text": [
      "     SCAN_HOUR SCAN_DAY_NAME  Parcel_Count\n",
      "115         23        Monday         23675\n",
      "105         21        Monday         23445\n",
      "1            0       Tuesday         22387\n",
      "106         21       Tuesday         21186\n",
      "107         21     Wednesday         19900\n",
      "101         20       Tuesday         19684\n",
      "111         22       Tuesday         19562\n",
      "108         21      Thursday         19521\n",
      "118         23      Thursday         19495\n",
      "109         21        Friday         19301\n"
     ]
    }
   ],
   "source": [
    "# Print the 10 largest values of Parcel_Count\n",
    "top_10_parcel_counts = parcel_counts.nlargest(10, 'Parcel_Count')\n",
    "print(top_10_parcel_counts)"
   ]
  },
  {
   "cell_type": "markdown",
   "id": "6830ef1e-465b-4fb3-b79f-809f94f6f4fc",
   "metadata": {},
   "source": [
    "## For depot 120"
   ]
  },
  {
   "cell_type": "code",
   "execution_count": 28,
   "id": "9361c9b9-89a3-43b5-8bee-9f6e1bcfce1b",
   "metadata": {},
   "outputs": [
    {
     "data": {
      "image/png": "[encoded data removed]",
      "text/plain": [
       "<Figure size 1400x800 with 2 Axes>"
      ]
     },
     "metadata": {},
     "output_type": "display_data"
    }
   ],
   "source": [
    "# Convert 'SCAN_DAY_OF_WEEK' from integer to day names\n",
    "day_names = ['Monday', 'Tuesday', 'Wednesday', 'Thursday', 'Friday', 'Saturday', 'Sunday']\n",
    "inbound_df_filtered['SCAN_DAY_NAME'] = inbound_df_filtered['SCAN_DAY_OF_WEEK'].map(lambda x: day_names[x])\n",
    "\n",
    "# Filter data for DESTINATION_DEPOT_ID 120\n",
    "data_depot_120 = inbound_df_filtered[inbound_df_filtered['DESTINATION_DEPOT_ID'] == 120]\n",
    "\n",
    "# Exclude Saturday and Sunday\n",
    "data_depot_120 = data_depot_120[~data_depot_120['SCAN_DAY_NAME'].isin(['Saturday', 'Sunday'])]\n",
    "\n",
    "# Ensure 'SCAN_DAY_NAME' is a categorical type with proper ordering\n",
    "data_depot_120['SCAN_DAY_NAME'] = data_depot_120['SCAN_DAY_NAME'].astype(pd.CategoricalDtype(categories=[\n",
    "    'Monday', 'Tuesday', 'Wednesday', 'Thursday', 'Friday'\n",
    "], ordered=True))\n",
    "\n",
    "# Group by 'SCAN_HOUR' and 'SCAN_DAY_NAME' and count the number of parcels\n",
    "parcel_counts_120 = data_depot_120.groupby(['SCAN_HOUR', 'SCAN_DAY_NAME']).size().reset_index(name='Parcel_Count')\n",
    "\n",
    "# Pivot the data for heatmap\n",
    "heatmap_data_parcel_counts = parcel_counts_120.pivot(index='SCAN_DAY_NAME', columns='SCAN_HOUR', values='Parcel_Count')\n",
    "\n",
    "# Ensure correct ordering of columns and index\n",
    "heatmap_data_parcel_counts = heatmap_data_parcel_counts.reindex(\n",
    "    columns=range(24),  # Assuming hours from 0 to 23\n",
    "    index=pd.CategoricalIndex(\n",
    "        ['Monday', 'Tuesday', 'Wednesday', 'Thursday', 'Friday'],\n",
    "        categories=['Monday', 'Tuesday', 'Wednesday', 'Thursday', 'Friday'],\n",
    "        ordered=True\n",
    "    )\n",
    ")\n",
    "\n",
    "# Plotting the number of parcels for Depot 120\n",
    "plt.figure(figsize=(14, 8))\n",
    "sns.heatmap(heatmap_data_parcel_counts, annot=True, fmt=\".0f\", cmap='Blues', cbar=True)\n",
    "\n",
    "# Customize the plot\n",
    "plt.xlabel('Scan Hour of the Day')\n",
    "plt.ylabel('Day of the Week')\n",
    "plt.title('Number of Parcels by Scan Hour and Day of the Week (Depot 120)')\n",
    "\n",
    "# Show the plot\n",
    "plt.tight_layout()\n",
    "plt.show()"
   ]
  },
  {
   "cell_type": "code",
   "execution_count": 29,
   "id": "7e975ca5-91d4-40b2-a328-6471926ea221",
   "metadata": {},
   "outputs": [
    {
     "name": "stdout",
     "output_type": "stream",
     "text": [
      "    SCAN_HOUR SCAN_DAY_NAME  Parcel_Count\n",
      "88         21      Thursday           487\n",
      "82         20     Wednesday           443\n",
      "87         21     Wednesday           439\n",
      "86         21       Tuesday           412\n",
      "89         21        Friday           369\n",
      "91         22       Tuesday           369\n",
      "81         20       Tuesday           327\n",
      "1           0       Tuesday           320\n",
      "92         22     Wednesday           317\n",
      "83         20      Thursday           307\n"
     ]
    }
   ],
   "source": [
    "# Print the 10 largest values of Parcel_Count\n",
    "top_10_parcel_counts_120 = parcel_counts_120.nlargest(10, 'Parcel_Count')\n",
    "print(top_10_parcel_counts_120)"
   ]
  },
  {
   "cell_type": "markdown",
   "id": "4a43a83e-3b75-4c8c-8378-a5ac53f9754b",
   "metadata": {},
   "source": [
    "# Processing Time Analysis per parcel: between first scan and delivered event"
   ]
  },
  {
   "cell_type": "markdown",
   "id": "946c632d-33e7-4b18-8bb6-e9402f054b64",
   "metadata": {},
   "source": [
    "For each UNITNO, check the difference between SCAN_DATETIME when EVENT_CODE is 3 (delivered) and when EVENT_CODE is 0 (data creation)\n",
    "Use the dataframe df_unique"
   ]
  },
  {
   "cell_type": "code",
   "execution_count": 50,
   "id": "7f306313-6331-499f-9335-1a0dca263179",
   "metadata": {},
   "outputs": [
    {
     "name": "stdout",
     "output_type": "stream",
     "text": [
      "          UNITNO        CREATED_DATETIME  DELIVERED_DATETIME  \\\n",
      "0    10372017465 2024-07-18 15:32:32.914 2024-07-19 10:14:34   \n",
      "1    10372047655 2024-07-18 16:36:31.349 2024-07-19 12:54:53   \n",
      "2    10372047656 2024-07-18 16:30:28.411 2024-07-19 12:54:53   \n",
      "3    10372047657 2024-07-18 16:36:07.711 2024-07-19 12:54:53   \n",
      "4    10372047658 2024-07-18 16:32:01.528 2024-07-19 12:54:53   \n",
      "..           ...                     ...                 ...   \n",
      "930  89420012192 2024-07-18 18:33:33.267 2024-07-19 12:25:25   \n",
      "931  89420012192 2024-07-18 18:33:33.268 2024-07-19 12:25:25   \n",
      "932  89420012353 2024-07-19 17:13:30.928 2024-07-22 13:36:35   \n",
      "933  89420012353 2024-07-19 17:13:30.929 2024-07-22 13:36:35   \n",
      "934  89420012353 2024-07-19 17:13:30.929 2024-07-22 13:36:35   \n",
      "\n",
      "           TIME_DIFFERENCE  \n",
      "0   0 days 18:42:01.086000  \n",
      "1   0 days 20:18:21.651000  \n",
      "2   0 days 20:24:24.589000  \n",
      "3   0 days 20:18:45.289000  \n",
      "4   0 days 20:22:51.472000  \n",
      "..                     ...  \n",
      "930 0 days 17:51:51.733000  \n",
      "931 0 days 17:51:51.732000  \n",
      "932 2 days 20:23:04.072000  \n",
      "933 2 days 20:23:04.071000  \n",
      "934 2 days 20:23:04.071000  \n",
      "\n",
      "[935 rows x 4 columns]\n"
     ]
    }
   ],
   "source": [
    "# Filter the DataFrame for EVENT_CODE 3 (delivered) and 0 (data creation)\n",
    "delivered_df = df_unique[df_unique['EVENT_CODE'] == 3][['UNITNO', 'SCAN_DATETIME']]\n",
    "created_df = df_unique[df_unique['EVENT_CODE'] == 0][['UNITNO', 'SCAN_DATETIME']]\n",
    "\n",
    "# Rename columns to avoid confusion during merge\n",
    "delivered_df.rename(columns={'SCAN_DATETIME': 'DELIVERED_DATETIME'}, inplace=True)\n",
    "created_df.rename(columns={'SCAN_DATETIME': 'CREATED_DATETIME'}, inplace=True)\n",
    "\n",
    "# Merge the DataFrames on UNITNO\n",
    "merged_df = pd.merge(delivered_df, created_df, on='UNITNO')\n",
    "\n",
    "# Calculate the difference between DELIVERED_DATETIME and CREATED_DATETIME\n",
    "merged_df['TIME_DIFFERENCE'] = merged_df['DELIVERED_DATETIME'] - merged_df['CREATED_DATETIME']\n",
    "\n",
    "# Print the DataFrame\n",
    "print(merged_df[['UNITNO', 'CREATED_DATETIME', 'DELIVERED_DATETIME', 'TIME_DIFFERENCE']])"
   ]
  },
  {
   "cell_type": "markdown",
   "id": "90ecec46-398e-42a2-84ff-62f6ef21a9e1",
   "metadata": {},
   "source": [
    "# Processing Time per Depot "
   ]
  },
  {
   "cell_type": "code",
   "execution_count": 56,
   "id": "7f4e4714-8506-445e-a018-2d4b8cdd5f42",
   "metadata": {},
   "outputs": [
    {
     "name": "stdout",
     "output_type": "stream",
     "text": [
      "    DESTINATION_DEPOT_ID           TIME_DIFFERENCE\n",
      "0                    100 1 days 05:31:23.176199367\n",
      "1                    110 2 days 11:06:16.652012820\n",
      "2                    120 0 days 14:42:38.203923076\n",
      "3                    130 1 days 06:50:03.653703389\n",
      "4                    140 2 days 15:09:10.784301886\n",
      "..                   ...                       ...\n",
      "61                   850    1 days 08:05:05.415250\n",
      "62                   860 1 days 09:13:40.872633333\n",
      "63                   870 1 days 03:11:24.321758992\n",
      "64                   880 1 days 14:34:39.231818181\n",
      "65                   890 2 days 03:01:05.454859375\n",
      "\n",
      "[66 rows x 2 columns]\n"
     ]
    }
   ],
   "source": [
    "# Merge with original DataFrame to get DESTINATION_DEPOT_ID\n",
    "merged_df_with_depot = pd.merge(merged_df, df_unique[['UNITNO', 'DESTINATION_DEPOT_ID']], on='UNITNO')\n",
    "# Group by DESTINATION_DEPOT_ID and calculate the mean processing time\n",
    "processing_time_per_depot = merged_df_with_depot.groupby('DESTINATION_DEPOT_ID')['TIME_DIFFERENCE'].mean()\n",
    "\n",
    "# Convert the result to a DataFrame for better readability\n",
    "processing_time_per_depot_df = processing_time_per_depot.reset_index()\n",
    "\n",
    "# Print the result\n",
    "print(processing_time_per_depot_df)"
   ]
  },
  {
   "cell_type": "code",
   "execution_count": 68,
   "id": "9f392909-5789-4942-b0a3-b828a2912ad1",
   "metadata": {},
   "outputs": [
    {
     "ename": "AttributeError",
     "evalue": "'numpy.int64' object has no attribute 'startswith'",
     "output_type": "error",
     "traceback": [
      "\u001b[0;31m---------------------------------------------------------------------------\u001b[0m",
      "\u001b[0;31mAttributeError\u001b[0m                            Traceback (most recent call last)",
      "Cell \u001b[0;32mIn[68], line 31\u001b[0m\n\u001b[1;32m     28\u001b[0m plt\u001b[38;5;241m.\u001b[39mfigure(figsize\u001b[38;5;241m=\u001b[39m(\u001b[38;5;241m14\u001b[39m, \u001b[38;5;241m10\u001b[39m))\n\u001b[1;32m     30\u001b[0m \u001b[38;5;66;03m# Create a bar plot with DESTINATION_DEPOT_ID and CREATED_DATETIME_MINUTE\u001b[39;00m\n\u001b[0;32m---> 31\u001b[0m sns\u001b[38;5;241m.\u001b[39mbarplot(data\u001b[38;5;241m=\u001b[39maverage_processing_time_per_minute, x\u001b[38;5;241m=\u001b[39m\u001b[38;5;124m'\u001b[39m\u001b[38;5;124mCREATED_DATETIME_MINUTE\u001b[39m\u001b[38;5;124m'\u001b[39m, y\u001b[38;5;241m=\u001b[39m\u001b[38;5;124m'\u001b[39m\u001b[38;5;124mPROCESSING_TIME\u001b[39m\u001b[38;5;124m'\u001b[39m, hue\u001b[38;5;241m=\u001b[39m\u001b[38;5;124m'\u001b[39m\u001b[38;5;124mDESTINATION_DEPOT_ID\u001b[39m\u001b[38;5;124m'\u001b[39m, palette\u001b[38;5;241m=\u001b[39m\u001b[38;5;124m'\u001b[39m\u001b[38;5;124mviridis\u001b[39m\u001b[38;5;124m'\u001b[39m)\n\u001b[1;32m     33\u001b[0m \u001b[38;5;66;03m# Customize the plot\u001b[39;00m\n\u001b[1;32m     34\u001b[0m plt\u001b[38;5;241m.\u001b[39mxlabel(\u001b[38;5;124m'\u001b[39m\u001b[38;5;124mMinute\u001b[39m\u001b[38;5;124m'\u001b[39m)\n",
      "File \u001b[0;32m/opt/anaconda3/lib/python3.11/site-packages/seaborn/categorical.py:2763\u001b[0m, in \u001b[0;36mbarplot\u001b[0;34m(data, x, y, hue, order, hue_order, estimator, errorbar, n_boot, units, seed, orient, color, palette, saturation, width, errcolor, errwidth, capsize, dodge, ci, ax, **kwargs)\u001b[0m\n\u001b[1;32m   2760\u001b[0m \u001b[38;5;28;01mif\u001b[39;00m ax \u001b[38;5;129;01mis\u001b[39;00m \u001b[38;5;28;01mNone\u001b[39;00m:\n\u001b[1;32m   2761\u001b[0m     ax \u001b[38;5;241m=\u001b[39m plt\u001b[38;5;241m.\u001b[39mgca()\n\u001b[0;32m-> 2763\u001b[0m plotter\u001b[38;5;241m.\u001b[39mplot(ax, kwargs)\n\u001b[1;32m   2764\u001b[0m \u001b[38;5;28;01mreturn\u001b[39;00m ax\n",
      "File \u001b[0;32m/opt/anaconda3/lib/python3.11/site-packages/seaborn/categorical.py:1587\u001b[0m, in \u001b[0;36m_BarPlotter.plot\u001b[0;34m(self, ax, bar_kws)\u001b[0m\n\u001b[1;32m   1585\u001b[0m \u001b[38;5;250m\u001b[39m\u001b[38;5;124;03m\"\"\"Make the plot.\"\"\"\u001b[39;00m\n\u001b[1;32m   1586\u001b[0m \u001b[38;5;28mself\u001b[39m\u001b[38;5;241m.\u001b[39mdraw_bars(ax, bar_kws)\n\u001b[0;32m-> 1587\u001b[0m \u001b[38;5;28mself\u001b[39m\u001b[38;5;241m.\u001b[39mannotate_axes(ax)\n\u001b[1;32m   1588\u001b[0m \u001b[38;5;28;01mif\u001b[39;00m \u001b[38;5;28mself\u001b[39m\u001b[38;5;241m.\u001b[39morient \u001b[38;5;241m==\u001b[39m \u001b[38;5;124m\"\u001b[39m\u001b[38;5;124mh\u001b[39m\u001b[38;5;124m\"\u001b[39m:\n\u001b[1;32m   1589\u001b[0m     ax\u001b[38;5;241m.\u001b[39minvert_yaxis()\n",
      "File \u001b[0;32m/opt/anaconda3/lib/python3.11/site-packages/seaborn/categorical.py:767\u001b[0m, in \u001b[0;36m_CategoricalPlotter.annotate_axes\u001b[0;34m(self, ax)\u001b[0m\n\u001b[1;32m    764\u001b[0m     ax\u001b[38;5;241m.\u001b[39mset_ylim(\u001b[38;5;241m-\u001b[39m\u001b[38;5;241m.5\u001b[39m, \u001b[38;5;28mlen\u001b[39m(\u001b[38;5;28mself\u001b[39m\u001b[38;5;241m.\u001b[39mplot_data) \u001b[38;5;241m-\u001b[39m \u001b[38;5;241m.5\u001b[39m, auto\u001b[38;5;241m=\u001b[39m\u001b[38;5;28;01mNone\u001b[39;00m)\n\u001b[1;32m    766\u001b[0m \u001b[38;5;28;01mif\u001b[39;00m \u001b[38;5;28mself\u001b[39m\u001b[38;5;241m.\u001b[39mhue_names \u001b[38;5;129;01mis\u001b[39;00m \u001b[38;5;129;01mnot\u001b[39;00m \u001b[38;5;28;01mNone\u001b[39;00m:\n\u001b[0;32m--> 767\u001b[0m     ax\u001b[38;5;241m.\u001b[39mlegend(loc\u001b[38;5;241m=\u001b[39m\u001b[38;5;124m\"\u001b[39m\u001b[38;5;124mbest\u001b[39m\u001b[38;5;124m\"\u001b[39m, title\u001b[38;5;241m=\u001b[39m\u001b[38;5;28mself\u001b[39m\u001b[38;5;241m.\u001b[39mhue_title)\n",
      "File \u001b[0;32m/opt/anaconda3/lib/python3.11/site-packages/matplotlib/axes/_axes.py:322\u001b[0m, in \u001b[0;36mAxes.legend\u001b[0;34m(self, *args, **kwargs)\u001b[0m\n\u001b[1;32m    204\u001b[0m \u001b[38;5;129m@_docstring\u001b[39m\u001b[38;5;241m.\u001b[39mdedent_interpd\n\u001b[1;32m    205\u001b[0m \u001b[38;5;28;01mdef\u001b[39;00m \u001b[38;5;21mlegend\u001b[39m(\u001b[38;5;28mself\u001b[39m, \u001b[38;5;241m*\u001b[39margs, \u001b[38;5;241m*\u001b[39m\u001b[38;5;241m*\u001b[39mkwargs):\n\u001b[1;32m    206\u001b[0m \u001b[38;5;250m    \u001b[39m\u001b[38;5;124;03m\"\"\"\u001b[39;00m\n\u001b[1;32m    207\u001b[0m \u001b[38;5;124;03m    Place a legend on the Axes.\u001b[39;00m\n\u001b[1;32m    208\u001b[0m \n\u001b[0;32m   (...)\u001b[0m\n\u001b[1;32m    320\u001b[0m \u001b[38;5;124;03m    .. plot:: gallery/text_labels_and_annotations/legend.py\u001b[39;00m\n\u001b[1;32m    321\u001b[0m \u001b[38;5;124;03m    \"\"\"\u001b[39;00m\n\u001b[0;32m--> 322\u001b[0m     handles, labels, kwargs \u001b[38;5;241m=\u001b[39m mlegend\u001b[38;5;241m.\u001b[39m_parse_legend_args([\u001b[38;5;28mself\u001b[39m], \u001b[38;5;241m*\u001b[39margs, \u001b[38;5;241m*\u001b[39m\u001b[38;5;241m*\u001b[39mkwargs)\n\u001b[1;32m    323\u001b[0m     \u001b[38;5;28mself\u001b[39m\u001b[38;5;241m.\u001b[39mlegend_ \u001b[38;5;241m=\u001b[39m mlegend\u001b[38;5;241m.\u001b[39mLegend(\u001b[38;5;28mself\u001b[39m, handles, labels, \u001b[38;5;241m*\u001b[39m\u001b[38;5;241m*\u001b[39mkwargs)\n\u001b[1;32m    324\u001b[0m     \u001b[38;5;28mself\u001b[39m\u001b[38;5;241m.\u001b[39mlegend_\u001b[38;5;241m.\u001b[39m_remove_method \u001b[38;5;241m=\u001b[39m \u001b[38;5;28mself\u001b[39m\u001b[38;5;241m.\u001b[39m_remove_legend\n",
      "File \u001b[0;32m/opt/anaconda3/lib/python3.11/site-packages/matplotlib/legend.py:1361\u001b[0m, in \u001b[0;36m_parse_legend_args\u001b[0;34m(axs, handles, labels, *args, **kwargs)\u001b[0m\n\u001b[1;32m   1357\u001b[0m     handles \u001b[38;5;241m=\u001b[39m [handle \u001b[38;5;28;01mfor\u001b[39;00m handle, label\n\u001b[1;32m   1358\u001b[0m                \u001b[38;5;129;01min\u001b[39;00m \u001b[38;5;28mzip\u001b[39m(_get_legend_handles(axs, handlers), labels)]\n\u001b[1;32m   1360\u001b[0m \u001b[38;5;28;01melif\u001b[39;00m \u001b[38;5;28mlen\u001b[39m(args) \u001b[38;5;241m==\u001b[39m \u001b[38;5;241m0\u001b[39m:  \u001b[38;5;66;03m# 0 args: automatically detect labels and handles.\u001b[39;00m\n\u001b[0;32m-> 1361\u001b[0m     handles, labels \u001b[38;5;241m=\u001b[39m _get_legend_handles_labels(axs, handlers)\n\u001b[1;32m   1362\u001b[0m     \u001b[38;5;28;01mif\u001b[39;00m \u001b[38;5;129;01mnot\u001b[39;00m handles:\n\u001b[1;32m   1363\u001b[0m         log\u001b[38;5;241m.\u001b[39mwarning(\n\u001b[1;32m   1364\u001b[0m             \u001b[38;5;124m\"\u001b[39m\u001b[38;5;124mNo artists with labels found to put in legend.  Note that \u001b[39m\u001b[38;5;124m\"\u001b[39m\n\u001b[1;32m   1365\u001b[0m             \u001b[38;5;124m\"\u001b[39m\u001b[38;5;124martists whose label start with an underscore are ignored \u001b[39m\u001b[38;5;124m\"\u001b[39m\n\u001b[1;32m   1366\u001b[0m             \u001b[38;5;124m\"\u001b[39m\u001b[38;5;124mwhen legend() is called with no argument.\u001b[39m\u001b[38;5;124m\"\u001b[39m)\n",
      "File \u001b[0;32m/opt/anaconda3/lib/python3.11/site-packages/matplotlib/legend.py:1291\u001b[0m, in \u001b[0;36m_get_legend_handles_labels\u001b[0;34m(axs, legend_handler_map)\u001b[0m\n\u001b[1;32m   1289\u001b[0m \u001b[38;5;28;01mfor\u001b[39;00m handle \u001b[38;5;129;01min\u001b[39;00m _get_legend_handles(axs, legend_handler_map):\n\u001b[1;32m   1290\u001b[0m     label \u001b[38;5;241m=\u001b[39m handle\u001b[38;5;241m.\u001b[39mget_label()\n\u001b[0;32m-> 1291\u001b[0m     \u001b[38;5;28;01mif\u001b[39;00m label \u001b[38;5;129;01mand\u001b[39;00m \u001b[38;5;129;01mnot\u001b[39;00m label\u001b[38;5;241m.\u001b[39mstartswith(\u001b[38;5;124m'\u001b[39m\u001b[38;5;124m_\u001b[39m\u001b[38;5;124m'\u001b[39m):\n\u001b[1;32m   1292\u001b[0m         handles\u001b[38;5;241m.\u001b[39mappend(handle)\n\u001b[1;32m   1293\u001b[0m         labels\u001b[38;5;241m.\u001b[39mappend(label)\n",
      "\u001b[0;31mAttributeError\u001b[0m: 'numpy.int64' object has no attribute 'startswith'"
     ]
    },
    {
     "data": {
      "image/png": "[encoded data removed]",
      "text/plain": [
       "<Figure size 1400x1000 with 1 Axes>"
      ]
     },
     "metadata": {},
     "output_type": "display_data"
    }
   ],
   "source": [
    "# Ensure SCAN_DATETIME is a datetime object\n",
    "df_unique['SCAN_DATETIME'] = pd.to_datetime(df_unique['SCAN_DATETIME'])\n",
    "\n",
    "# Filter the DataFrame for EVENT_CODE 3 (delivered) and 0 (data creation)\n",
    "delivered_df = df_unique[df_unique['EVENT_CODE'] == 3][['UNITNO', 'SCAN_DATETIME', 'DESTINATION_DEPOT_ID']]\n",
    "created_df = df_unique[df_unique['EVENT_CODE'] == 0][['UNITNO', 'SCAN_DATETIME']]\n",
    "\n",
    "# Rename columns to avoid confusion during merge\n",
    "delivered_df.rename(columns={'SCAN_DATETIME': 'DELIVERED_DATETIME'}, inplace=True)\n",
    "created_df.rename(columns={'SCAN_DATETIME': 'CREATED_DATETIME'}, inplace=True)\n",
    "\n",
    "# Merge the DataFrames on UNITNO\n",
    "merged_df = pd.merge(delivered_df, created_df, on='UNITNO')\n",
    "\n",
    "# Calculate the difference between DELIVERED_DATETIME and CREATED_DATETIME\n",
    "merged_df['PROCESSING_TIME'] = merged_df['DELIVERED_DATETIME'] - merged_df['CREATED_DATETIME']\n",
    "\n",
    "# Convert PROCESSING_TIME to a numeric value (e.g., seconds)\n",
    "merged_df['PROCESSING_TIME'] = merged_df['PROCESSING_TIME'].dt.total_seconds()\n",
    "\n",
    "# Round the CREATED_DATETIME to the nearest minute\n",
    "merged_df['CREATED_DATETIME_MINUTE'] = merged_df['CREATED_DATETIME'].dt.to_period('T').astype('datetime64')\n",
    "\n",
    "# Group by DESTINATION_DEPOT_ID and CREATED_DATETIME_MINUTE and calculate the average processing time\n",
    "average_processing_time_per_minute = merged_df.groupby(['DESTINATION_DEPOT_ID', 'CREATED_DATETIME_MINUTE'])['PROCESSING_TIME'].mean().reset_index()\n",
    "\n",
    "# Plotting the result\n",
    "plt.figure(figsize=(14, 10))\n",
    "\n",
    "# Create a bar plot with DESTINATION_DEPOT_ID and CREATED_DATETIME_MINUTE\n",
    "sns.barplot(data=average_processing_time_per_minute, x='CREATED_DATETIME_MINUTE', y='PROCESSING_TIME', hue='DESTINATION_DEPOT_ID', palette='viridis')\n",
    "\n",
    "# Customize the plot\n",
    "plt.xlabel('Minute')\n",
    "plt.ylabel('Average Processing Time (seconds)')\n",
    "plt.title('Average Processing Time per Minute by Destination Depot')\n",
    "plt.xticks(rotation=45, ha='right')  # Rotate x-axis labels for better readability\n",
    "plt.legend(title='Destination Depot ID')\n",
    "plt.tight_layout()\n",
    "\n",
    "# Show the plot\n",
    "plt.show()"
   ]
  },
  {
   "cell_type": "markdown",
   "id": "d5f5f7f0-9b34-43b6-aee0-68f7c17334e2",
   "metadata": {},
   "source": [
    "# Processing Time for Depot 120, PRIOR DEPOT GROUPING"
   ]
  },
  {
   "cell_type": "markdown",
   "id": "1ea661fa-7e06-49d2-aa24-b9cfa2a13468",
   "metadata": {},
   "source": [
    "only look at data with DESTINATION_DEPOT_ID 120 and check processing_time per SCAN_DEPOT_ID"
   ]
  },
  {
   "cell_type": "markdown",
   "id": "2ef450d7-b06f-4960-8d06-c10c5afe7e83",
   "metadata": {},
   "source": [
    "# Special Handling Requirements (Small and Hazardous criteria)"
   ]
  },
  {
   "cell_type": "markdown",
   "id": "9e513580-8d18-417a-b89b-6b01efe62a39",
   "metadata": {},
   "source": [
    "- Check mean/median composite score per small and per hazardous \n",
    "- Check the distribution of composite score for small=1 and then for small=0 (same for hazardous)\n",
    "##### Here we are using inbound_df_filtered dataframe"
   ]
  },
  {
   "cell_type": "markdown",
   "id": "2b50ace6-24d7-4f7a-b0f2-bc64420c3855",
   "metadata": {},
   "source": [
    "# Efficiency Ratios: For each depot parcels per hour, weight per hour, and volume per hour"
   ]
  },
  {
   "cell_type": "markdown",
   "id": "1d913f20-e954-476d-a31f-08718c459fe6",
   "metadata": {},
   "source": [
    "- Average weight by Scan Hour and Day of the Week (all depots and then Depot 120)\n",
    "- Average Volume by Scan Hour and Day of the Week (all depots and then Depot 120)"
   ]
  },
  {
   "cell_type": "markdown",
   "id": "523240f1-ad22-456b-82df-4950ba185f40",
   "metadata": {},
   "source": [
    "## Do we have any parcels that were not delivered? EVENT_CODE 4"
   ]
  },
  {
   "cell_type": "code",
   "execution_count": null,
   "id": "ec2258a1-2d30-438f-ad84-5b09cb8e7b8a",
   "metadata": {},
   "outputs": [],
   "source": []
  }
 ],
 "metadata": {
  "kernelspec": {
   "display_name": "Python 3 (ipykernel)",
   "language": "python",
   "name": "python3"
  },
  "language_info": {
   "codemirror_mode": {
    "name": "ipython",
    "version": 3
   },
   "file_extension": ".py",
   "mimetype": "text/x-python",
   "name": "python",
   "nbconvert_exporter": "python",
   "pygments_lexer": "ipython3",
   "version": "3.11.7"
  }
 },
 "nbformat": 4,
 "nbformat_minor": 5
}
